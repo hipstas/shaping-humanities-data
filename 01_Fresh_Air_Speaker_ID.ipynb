{
 "cells": [
  {
   "cell_type": "code",
   "execution_count": null,
   "metadata": {
    "collapsed": true
   },
   "outputs": [],
   "source": [
    "%%capture\n",
    "# Install the latest version of attk (if necessary)\n",
    "#!pip install -U git+git://github.com/hipstas/audio-tagging-toolkit.git"
   ]
  },
  {
   "cell_type": "code",
   "execution_count": 68,
   "metadata": {},
   "outputs": [
    {
     "name": "stdout",
     "output_type": "stream",
     "text": [
      "mkdir: cannot create directory '/sharedfolder/GitHub/sida/___training_audio': File exists\r\n"
     ]
    }
   ],
   "source": [
    "import attk\n",
    "import os\n",
    "import numpy as np\n",
    "import librosa\n",
    "from IPython.display import display, Audio\n",
    "import timeit\n",
    "import random\n",
    "from sklearn.externals import joblib\n",
    "from numpy import ma\n",
    "from aubio import source, pitch\n",
    "from moviepy.audio.io import AudioFileClip\n",
    "import subprocess\n",
    "import unicodecsv\n",
    "import urllib2\n",
    "import csv\n",
    "\n",
    "\n",
    "os.chdir('/sharedfolder/GitHub/sida/')\n",
    "\n",
    "!mkdir /sharedfolder/GitHub/sida/___training_audio\n",
    "\n",
    "os.chdir('/sharedfolder/GitHub/sida/___training_audio')\n",
    "\n",
    "## Uncomment lines below to download audio files for training\n",
    "\n",
    "#!wget http://www.stephenmclaughlin.net/HILT/audio_corpora/NPR_Fresh_Air_diarized.zip\n",
    "#!unzip NPR_Fresh_Air_diarized.zip"
   ]
  },
  {
   "cell_type": "code",
   "execution_count": null,
   "metadata": {
    "collapsed": true
   },
   "outputs": [],
   "source": [
    "!wget http://www.stephenmclaughlin.net/HILT/audio_corpora/NPR_Fresh_Air_diarized.zip"
   ]
  },
  {
   "cell_type": "code",
   "execution_count": null,
   "metadata": {},
   "outputs": [],
   "source": [
    "## Loading label data CSV as a list of lists\n",
    "\n",
    "## Random 1-second labels\n",
    "#csv_url = \"https://raw.githubusercontent.com/hipstas/aapb-labels/master/Terry_Gross/Terry_Gross_labels.csv\"\n",
    "\n",
    "## Labels done by hand in Sonic Visualiser\n",
    "csv_url = 'https://raw.githubusercontent.com/hipstas/aapb-labels/master/Terry_Gross/Terry_Gross_corrected_SV.csv'\n",
    "### Drop in Audio Labeler URL ^^^^\n",
    "\n",
    "csv_string = urllib2.urlopen(csv_url)\n",
    "\n",
    "train_table = []\n",
    "\n",
    "csv_reader = unicodecsv.reader(csv_string)\n",
    "\n",
    "for row in csv_reader:\n",
    "        train_table.append(row)\n",
    "\n",
    "train_table[:10]+['...']"
   ]
  },
  {
   "cell_type": "code",
   "execution_count": null,
   "metadata": {},
   "outputs": [],
   "source": [
    "## Removing header row if present\n",
    "\n",
    "if 'Media file basename' in train_table[0]:\n",
    "    train_table = train_table[1:]\n",
    "\n",
    "random.shuffle(train_table)"
   ]
  },
  {
   "cell_type": "code",
   "execution_count": null,
   "metadata": {
    "collapsed": true
   },
   "outputs": [],
   "source": [
    "%%capture\n",
    "\n",
    "## Excerpting WAV clips corresponding to labels\n",
    "\n",
    "training_audio_pathname = \"NPR_Fresh_Air_diarized\"\n",
    "out_dir = '_classes_SV_' + training_audio_pathname\n",
    "\n",
    "\n",
    "for row in train_table:\n",
    "    try:\n",
    "        basename , start, duration, class_name, labeled_by = row  ## Assigning values in row to variables\n",
    "        filename = str(basename + '.mp3')\n",
    "        start = float(start)\n",
    "        end = float(start) + float(duration)\n",
    "        out_pathname = str(os.path.join(out_dir, class_name.replace(' ','_')))\n",
    "        try: \n",
    "            subprocess.call(['mkdir', '-p', out_pathname])\n",
    "        except:\n",
    "            pass\n",
    "        attk.subclip(os.path.join(training_audio_pathname, filename), float(start), end, out_pathname) ## <- attk\n",
    "    except Exception as e: \n",
    "        print(row)\n",
    "        print(e)\n",
    "\n"
   ]
  },
  {
   "cell_type": "code",
   "execution_count": null,
   "metadata": {
    "collapsed": true
   },
   "outputs": [],
   "source": [
    "################################################"
   ]
  },
  {
   "cell_type": "code",
   "execution_count": null,
   "metadata": {
    "collapsed": true
   },
   "outputs": [],
   "source": [
    "\n",
    "def extract_pairs(media_path,vowel_time_ranges):\n",
    "    snd = AudioFileClip.AudioFileClip(media_path)\n",
    "    file_duration = attk.duration(media_path)\n",
    "    for pair in vowel_time_ranges:\n",
    "        start, end = pair\n",
    "        start = float(start)\n",
    "        end = float(end)\n",
    "        if end-start >= 0.1:  ## Ignore clips shorter than 0.1 second\n",
    "            basename = media_path.split('/')[-1][:-4]\n",
    "            out_filename = basename+'__'+str(round(start, 4))+'_'+str(round(end, 4))+'.wav'\n",
    "            snd.subclip(start, end).write_audiofile(os.path.join('_vowel_clips',out_filename))\n",
    "\n",
    "\n",
    "def batch_extract_vowels(media_dir):\n",
    "\n",
    "    starting_location = os.getcwd()\n",
    "    \n",
    "    os.chdir(media_dir)\n",
    "\n",
    "    bin_2048_to_sec_constant = 0.046439909297052155\n",
    "    \n",
    "    try: os.mkdir('_vowel_clips')\n",
    "    except: pass\n",
    "\n",
    "    filenames=[item for item in os.listdir('./') if item[-4:].lower() in ('.mp3','.wav','.mp4')]\n",
    "\n",
    "    tic=timeit.default_timer()\n",
    "\n",
    "    for filename in filenames[::-1]:\n",
    "        try:\n",
    "            vowel_bools = attk.get_vowel_segments(filename)\n",
    "\n",
    "            vowel_bin_ranges = attk.labels_to_ranges(vowel_bools, label=True)\n",
    "\n",
    "            vowel_time_ranges = [(s*bin_2048_to_sec_constant, e*bin_2048_to_sec_constant) for s, e in vowel_bin_ranges]\n",
    "            \n",
    "            extract_pairs(filename,vowel_time_ranges)\n",
    "\n",
    "        except: print(\"***** ERROR: \"+filename)\n",
    "\n",
    "    print(\"Time elapsed: \"+str(timeit.default_timer() - tic))\n",
    "\n",
    "    os.chdir(starting_location)\n"
   ]
  },
  {
   "cell_type": "code",
   "execution_count": null,
   "metadata": {
    "collapsed": true
   },
   "outputs": [],
   "source": []
  },
  {
   "cell_type": "code",
   "execution_count": null,
   "metadata": {
    "collapsed": true
   },
   "outputs": [],
   "source": []
  },
  {
   "cell_type": "code",
   "execution_count": null,
   "metadata": {
    "collapsed": true
   },
   "outputs": [],
   "source": []
  },
  {
   "cell_type": "code",
   "execution_count": null,
   "metadata": {
    "collapsed": true
   },
   "outputs": [],
   "source": [
    "%%capture\n",
    "\n",
    "os.chdir('/sharedfolder/GitHub/sida/___training_audio/_classes_SV_NPR_Fresh_Air_diarized')\n",
    "\n",
    "#for class_dir_name in [item for item in os.listdir('./') if os.path.isdir(item)]:\n",
    "#    batch_extract_vowels(class_dir_name)\n",
    "\n",
    "batch_extract_vowels('Terry_Gross')\n",
    "#batch_extract_vowels('Background_Speaker')"
   ]
  },
  {
   "cell_type": "code",
   "execution_count": null,
   "metadata": {
    "collapsed": true
   },
   "outputs": [],
   "source": [
    "%%capture\n",
    "\n",
    "os.chdir('/sharedfolder/GitHub/sida/___training_audio/_classes_NPR_Fresh_Air_diarized')\n",
    "\n",
    "#for class_dir_name in [item for item in os.listdir('./') if os.path.isdir(item)]:\n",
    "#    batch_extract_vowels(class_dir_name)\n",
    "\n",
    "batch_extract_vowels('Terry_Gross')\n",
    "batch_extract_vowels('Background_Speaker')"
   ]
  },
  {
   "cell_type": "code",
   "execution_count": null,
   "metadata": {
    "collapsed": true
   },
   "outputs": [],
   "source": [
    "%%capture\n",
    "\n",
    "os.chdir('/sharedfolder/GitHub/sida/___training_audio/_classes_ubm_clips_final_July_2017')\n",
    "\n",
    "#batch_extract_vowels('Female')\n",
    "batch_extract_vowels('Male')\n"
   ]
  },
  {
   "cell_type": "code",
   "execution_count": null,
   "metadata": {
    "collapsed": true
   },
   "outputs": [],
   "source": []
  },
  {
   "cell_type": "code",
   "execution_count": null,
   "metadata": {
    "collapsed": true
   },
   "outputs": [],
   "source": []
  },
  {
   "cell_type": "code",
   "execution_count": null,
   "metadata": {},
   "outputs": [],
   "source": []
  },
  {
   "cell_type": "code",
   "execution_count": null,
   "metadata": {
    "collapsed": true
   },
   "outputs": [],
   "source": []
  },
  {
   "cell_type": "code",
   "execution_count": null,
   "metadata": {},
   "outputs": [],
   "source": [
    "## Extracting Speaker 1 features\n",
    "tic=timeit.default_timer()\n",
    "\n",
    "os.chdir('/sharedfolder/GitHub/sida/___training_audio/_classes_NPR_Fresh_Air_diarized/')\n",
    "\n",
    "dir_names = [item for item in os.listdir('./') if os.path.isdir(item)]\n",
    "\n",
    "for dir_name in dir_names:\n",
    "    \n",
    "    try:\n",
    "        os.chdir('/sharedfolder/GitHub/sida/___training_audio/_classes_NPR_Fresh_Air_diarized/' + dir_name + '/_vowel_clips')\n",
    "    \n",
    "        try: os.mkdir('../_vowel_mfccs_and_deltas')\n",
    "        except: pass\n",
    "    \n",
    "        csv_out_path = '../_vowel_mfccs_and_deltas/' + filename[:-4] + '.mfcc.csv'\n",
    "        if not os.path.isfile(csv_out_path):\n",
    "            try:\n",
    "                mfccs = attk.get_mfccs_and_deltas(filename)\n",
    "                with open(csv_out_path, 'w') as fo:\n",
    "                    csv_writer = csv.writer(fo)\n",
    "                    csv_writer.writerows(mfccs)  \n",
    "            except:\n",
    "                \"ERROR on \" + filename\n",
    "                \n",
    "    except: pass\n",
    "\n",
    "print(timeit.default_timer() - tic)\n",
    "\n",
    "tic=timeit.default_timer()\n",
    "\n",
    "##\n"
   ]
  },
  {
   "cell_type": "code",
   "execution_count": null,
   "metadata": {},
   "outputs": [],
   "source": [
    "## Extracting Background Speaker Features\n",
    "\n",
    "tic=timeit.default_timer()\n",
    "\n",
    "os.chdir('/sharedfolder/GitHub/sida/___training_audio/_classes_ubm_clips_final_July_2017')\n",
    "\n",
    "dir_names = [item for item in os.listdir('./') if os.path.isdir(item)]\n",
    "\n",
    "for dir_name in dir_names:\n",
    "    \n",
    "    try:\n",
    "        os.chdir('/sharedfolder/GitHub/sida/___training_audio/_classes_ubm_clips_final_July_2017/' + dir_name + '/_vowel_clips')\n",
    "    \n",
    "        try: os.mkdir('../_vowel_mfccs_and_deltas')\n",
    "        except: pass\n",
    "    \n",
    "        for filename in [item for item in os.listdir('./') if item.lower()[-4:] == '.wav']:\n",
    "            mfccs = attk.get_mfccs_and_deltas(filename)\n",
    "            with open('../_vowel_mfccs_and_deltas/' + filename[:-4] + '.mfcc.csv', 'w') as fo:\n",
    "                csv_writer = csv.writer(fo)\n",
    "                csv_writer.writerows(mfccs)  \n",
    "    except: pass\n",
    "\n",
    "print(timeit.default_timer() - tic)\n",
    "\n",
    "tic=timeit.default_timer()\n",
    "\n",
    "##\n"
   ]
  },
  {
   "cell_type": "code",
   "execution_count": null,
   "metadata": {
    "collapsed": true
   },
   "outputs": [],
   "source": []
  },
  {
   "cell_type": "code",
   "execution_count": null,
   "metadata": {
    "collapsed": true
   },
   "outputs": [],
   "source": []
  },
  {
   "cell_type": "code",
   "execution_count": null,
   "metadata": {
    "collapsed": true
   },
   "outputs": [],
   "source": []
  },
  {
   "cell_type": "code",
   "execution_count": null,
   "metadata": {
    "collapsed": true
   },
   "outputs": [],
   "source": []
  },
  {
   "cell_type": "code",
   "execution_count": null,
   "metadata": {
    "collapsed": true
   },
   "outputs": [],
   "source": []
  },
  {
   "cell_type": "code",
   "execution_count": 15,
   "metadata": {},
   "outputs": [
    {
     "name": "stdout",
     "output_type": "stream",
     "text": [
      "3824\n",
      "13314\n"
     ]
    }
   ],
   "source": [
    "## Loading saved features\n",
    "\n",
    "\n",
    "os.chdir('/sharedfolder/GitHub/sida/___training_audio/_classes_NPR_Fresh_Air_diarized/Terry_Gross/_vowel_mfccs_and_deltas')\n",
    "\n",
    "gross_features = []\n",
    "\n",
    "for filename in os.listdir('./'):\n",
    "    with open(filename) as fi:\n",
    "        csv_reader = csv.reader(fi)\n",
    "        for row in csv_reader:\n",
    "            gross_features.append([float(item) for item in row])\n",
    "\n",
    "print(len(gross_features))\n",
    "\n",
    "\n",
    "\n",
    "os.chdir('/sharedfolder/GitHub/sida/___training_audio/_classes_NPR_Fresh_Air_diarized/Background_Speaker/_vowel_mfccs_and_deltas')\n",
    "\n",
    "fa_ubm_features = []\n",
    "\n",
    "for filename in os.listdir('./'):\n",
    "    with open(filename) as fi:\n",
    "        csv_reader = csv.reader(fi)\n",
    "        for row in csv_reader:\n",
    "            fa_ubm_features.append([float(item) for item in row])\n",
    "\n",
    "print(len(fa_ubm_features))\n",
    "\n",
    "\n"
   ]
  },
  {
   "cell_type": "code",
   "execution_count": null,
   "metadata": {},
   "outputs": [],
   "source": []
  },
  {
   "cell_type": "code",
   "execution_count": 16,
   "metadata": {},
   "outputs": [
    {
     "name": "stdout",
     "output_type": "stream",
     "text": [
      "11531\n",
      "4382\n"
     ]
    }
   ],
   "source": [
    "import csv\n",
    "\n",
    "os.chdir('/sharedfolder/GitHub/sida/___training_audio/_classes_ubm_clips_final_July_2017/Male/_vowel_mfccs_and_deltas')\n",
    "\n",
    "m_ubm_features = []\n",
    "\n",
    "for filename in os.listdir('./'):\n",
    "    with open(filename) as fi:\n",
    "        csv_reader = csv.reader(fi)\n",
    "        for row in csv_reader:\n",
    "            m_ubm_features.append([float(item) for item in row])\n",
    "\n",
    "print(len(m_ubm_features))\n",
    "\n",
    "\n",
    "os.chdir('/sharedfolder/GitHub/sida/___training_audio/_classes_ubm_clips_final_July_2017/Female/_vowel_mfccs_and_deltas')\n",
    "\n",
    "f_ubm_features = []\n",
    "\n",
    "for filename in os.listdir('./'):\n",
    "    with open(filename) as fi:\n",
    "        csv_reader = csv.reader(fi)\n",
    "        for row in csv_reader:\n",
    "            f_ubm_features.append([float(item) for item in row])\n",
    "\n",
    "print(len(f_ubm_features))"
   ]
  },
  {
   "cell_type": "code",
   "execution_count": 4,
   "metadata": {
    "collapsed": true
   },
   "outputs": [],
   "source": [
    "os.chdir('/sharedfolder/GitHub/sida/___training_audio/')"
   ]
  },
  {
   "cell_type": "code",
   "execution_count": 17,
   "metadata": {},
   "outputs": [
    {
     "name": "stdout",
     "output_type": "stream",
     "text": [
      "3824\n",
      "29227\n"
     ]
    }
   ],
   "source": [
    "## Combining feature sets\n",
    "\n",
    "speaker_1_mfccs = gross_features\n",
    "ubm_mfccs = fa_ubm_features + m_ubm_features + f_ubm_features\n",
    "\n",
    "#speaker_1_mfccs = terry_gross_mfccs[::-1]\n",
    "#bg_mfccs = ubm_mfccs[::-1]\n",
    "\n",
    "#random.shuffle(speaker_1_mfccs)\n",
    "#random.shuffle(ubm_mfccs)\n",
    "\n",
    "print(len(speaker_1_mfccs))\n",
    "print(len(ubm_mfccs))"
   ]
  },
  {
   "cell_type": "code",
   "execution_count": 35,
   "metadata": {},
   "outputs": [
    {
     "name": "stdout",
     "output_type": "stream",
     "text": [
      "0.829703569268\n"
     ]
    }
   ],
   "source": [
    "## Training Extra Trees Classifier\n",
    "\n",
    "from sklearn.neural_network import MLPClassifier\n",
    "from sklearn.ensemble import ExtraTreesClassifier\n",
    "\n",
    "\n",
    "X = speaker_1_mfccs[:-len(speaker_1_mfccs)/10] + ubm_mfccs[:-len(ubm_mfccs)/10]\n",
    "y = [1]*len(speaker_1_mfccs[:-len(speaker_1_mfccs)/10]) + [0]*len(ubm_mfccs[:-len(ubm_mfccs)/10])\n",
    "\n",
    "X_test = speaker_1_mfccs[-len(speaker_1_mfccs)/10:] + ubm_mfccs[-len(ubm_mfccs)/10:]\n",
    "y_test = [1]*len(speaker_1_mfccs[-len(speaker_1_mfccs)/10:]) + [0]*len(ubm_mfccs[-len(ubm_mfccs)/10:])\n",
    "\n",
    "#classifier = ExtraTreesClassifier().fit(X, y)\n",
    "classifier = MLPClassifier().fit(X, y)\n",
    "\n",
    "## Saving trained model\n",
    "joblib.dump(classifier,'gross_vowels_mlpc_2048.pkl')\n",
    "classifier = joblib.load('gross_vowels_mlpc_2048.pkl')\n",
    "\n",
    "print(classifier.score(X_test,y_test))"
   ]
  },
  {
   "cell_type": "code",
   "execution_count": 36,
   "metadata": {},
   "outputs": [
    {
     "name": "stdout",
     "output_type": "stream",
     "text": [
      "0.829703569268\n"
     ]
    }
   ],
   "source": [
    "print(classifier.score(X_test,y_test))"
   ]
  },
  {
   "cell_type": "code",
   "execution_count": null,
   "metadata": {
    "collapsed": true
   },
   "outputs": [],
   "source": []
  },
  {
   "cell_type": "code",
   "execution_count": null,
   "metadata": {
    "collapsed": true
   },
   "outputs": [],
   "source": []
  },
  {
   "cell_type": "code",
   "execution_count": null,
   "metadata": {
    "collapsed": true
   },
   "outputs": [],
   "source": []
  },
  {
   "cell_type": "code",
   "execution_count": null,
   "metadata": {
    "collapsed": true
   },
   "outputs": [],
   "source": []
  },
  {
   "cell_type": "code",
   "execution_count": null,
   "metadata": {
    "collapsed": true
   },
   "outputs": [],
   "source": []
  },
  {
   "cell_type": "code",
   "execution_count": null,
   "metadata": {
    "collapsed": true
   },
   "outputs": [],
   "source": []
  },
  {
   "cell_type": "code",
   "execution_count": null,
   "metadata": {
    "collapsed": true
   },
   "outputs": [],
   "source": []
  },
  {
   "cell_type": "code",
   "execution_count": null,
   "metadata": {
    "collapsed": true
   },
   "outputs": [],
   "source": []
  },
  {
   "cell_type": "code",
   "execution_count": null,
   "metadata": {
    "collapsed": true
   },
   "outputs": [],
   "source": []
  },
  {
   "cell_type": "code",
   "execution_count": null,
   "metadata": {
    "collapsed": true
   },
   "outputs": [],
   "source": []
  },
  {
   "cell_type": "code",
   "execution_count": null,
   "metadata": {
    "collapsed": true
   },
   "outputs": [],
   "source": []
  },
  {
   "cell_type": "code",
   "execution_count": null,
   "metadata": {
    "collapsed": true
   },
   "outputs": [],
   "source": []
  },
  {
   "cell_type": "code",
   "execution_count": null,
   "metadata": {
    "collapsed": true
   },
   "outputs": [],
   "source": []
  },
  {
   "cell_type": "code",
   "execution_count": null,
   "metadata": {
    "collapsed": true
   },
   "outputs": [],
   "source": []
  },
  {
   "cell_type": "code",
   "execution_count": null,
   "metadata": {
    "collapsed": true
   },
   "outputs": [],
   "source": []
  },
  {
   "cell_type": "code",
   "execution_count": null,
   "metadata": {
    "collapsed": true
   },
   "outputs": [],
   "source": []
  },
  {
   "cell_type": "code",
   "execution_count": null,
   "metadata": {
    "collapsed": true
   },
   "outputs": [],
   "source": []
  },
  {
   "cell_type": "code",
   "execution_count": null,
   "metadata": {
    "collapsed": true
   },
   "outputs": [],
   "source": []
  },
  {
   "cell_type": "code",
   "execution_count": null,
   "metadata": {
    "collapsed": true
   },
   "outputs": [],
   "source": []
  },
  {
   "cell_type": "code",
   "execution_count": null,
   "metadata": {
    "collapsed": true
   },
   "outputs": [],
   "source": [
    "## Loading pre-trained model\n",
    "\n",
    "#from sklearn.ensemble import RandomForestClassifier\n",
    "\n",
    "#random_forest=joblib.load('pesca_vowels_random_forest_2048.pkl')"
   ]
  },
  {
   "cell_type": "code",
   "execution_count": null,
   "metadata": {
    "collapsed": true
   },
   "outputs": [],
   "source": [
    "#### Wget and unzip the Fresh Air clips"
   ]
  },
  {
   "cell_type": "code",
   "execution_count": null,
   "metadata": {},
   "outputs": [],
   "source": []
  },
  {
   "cell_type": "code",
   "execution_count": 63,
   "metadata": {},
   "outputs": [
    {
     "name": "stdout",
     "output_type": "stream",
     "text": [
      "/sharedfolder/Fresh_Air_2017-07-31_3-sec_clips/Fresh_Air_2017-07-31_0248.wav\n",
      "[0 0 1 0 0 1 1 0 1 0 1 1 1 1 0 1 0 1 1 1 1 1 0 1 1 1 1 0 1 1 0 0 1]\n"
     ]
    },
    {
     "data": {
      "text/html": [
       "\n",
       "                <audio controls=\"controls\" >\n",
       "                    <source src=\"data:audio/x-wav;base64,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\" type=\"audio/x-wav\" />\n",
       "                    Your browser does not support the audio element.\n",
       "                </audio>\n",
       "              "
      ],
      "text/plain": [
       "<IPython.lib.display.Audio object>"
      ]
     },
     "metadata": {},
     "output_type": "display_data"
    },
    {
     "name": "stdout",
     "output_type": "stream",
     "text": [
      "All: 0.636363636364\n",
      "Vowels only: 0.625\n"
     ]
    }
   ],
   "source": [
    "## Classifying short clips\n",
    "\n",
    "os.chdir('/sharedfolder/Fresh_Air_2017-07-31_3-sec_clips/')\n",
    "\n",
    "tic = timeit.default_timer()\n",
    "\n",
    "wav_pathname = os.path.abspath(random.choice(os.listdir('/sharedfolder/Fresh_Air_2017-07-31_3-sec_clips/')))\n",
    "\n",
    "test_mfccs = attk.get_mfccs_and_deltas(wav_pathname)\n",
    "\n",
    "print(wav_pathname)\n",
    "\n",
    "results = classifier.predict(test_mfccs)  ## Predicting new observation\n",
    "\n",
    "print(results)\n",
    "\n",
    "\n",
    "vowel_results=[]\n",
    "\n",
    "vowel_bools = attk.get_vowel_segments(wav_pathname)\n",
    "\n",
    "for i in range(len(results)):\n",
    "    if vowel_bools[i]==True:\n",
    "        vowel_results.append(results[i])\n",
    "\n",
    "display(Audio(wav_pathname))\n",
    "\n",
    "\n",
    "print(\"All: \"+str(np.mean(results)))\n",
    "print(\"Vowels only: \"+str(np.mean(vowel_results)))\n",
    "\n",
    "#print(\"Time elapsed: \"+str(timeit.default_timer() - tic))"
   ]
  },
  {
   "cell_type": "code",
   "execution_count": 64,
   "metadata": {},
   "outputs": [
    {
     "name": "stdout",
     "output_type": "stream",
     "text": [
      "0.625\n"
     ]
    }
   ],
   "source": [
    "print classify_clip(wav_pathname)"
   ]
  },
  {
   "cell_type": "code",
   "execution_count": null,
   "metadata": {},
   "outputs": [],
   "source": []
  },
  {
   "cell_type": "code",
   "execution_count": null,
   "metadata": {
    "collapsed": true
   },
   "outputs": [],
   "source": []
  },
  {
   "cell_type": "code",
   "execution_count": null,
   "metadata": {
    "collapsed": true
   },
   "outputs": [],
   "source": []
  },
  {
   "cell_type": "code",
   "execution_count": 53,
   "metadata": {
    "collapsed": true
   },
   "outputs": [],
   "source": [
    "\n",
    "def classify_clip(clip_pathname):\n",
    "    mfccs = attk.get_mfccs_and_deltas(clip_pathname)\n",
    "    results = classifier.predict(mfccs)  ## Predicting new observation\n",
    "    vowel_results=[]\n",
    "    vowel_bools = attk.get_vowel_segments(clip_pathname)\n",
    "\n",
    "    for i in range(len(results)):\n",
    "        if vowel_bools[i]==True:\n",
    "            vowel_results.append(results[i])\n",
    "\n",
    "    return np.mean(vowel_results) ## Vowels only\n",
    "\n"
   ]
  },
  {
   "cell_type": "code",
   "execution_count": null,
   "metadata": {},
   "outputs": [
    {
     "name": "stdout",
     "output_type": "stream",
     "text": [
      "[MoviePy] Writing audio in /tmp/temp_clip.wav\n"
     ]
    },
    {
     "name": "stderr",
     "output_type": "stream",
     "text": [
      "100%|██████████| 67/67 [00:00<00:00, 603.86it/s]"
     ]
    },
    {
     "name": "stdout",
     "output_type": "stream",
     "text": [
      "[MoviePy] Done.\n"
     ]
    },
    {
     "name": "stderr",
     "output_type": "stream",
     "text": [
      "\n"
     ]
    },
    {
     "name": "stdout",
     "output_type": "stream",
     "text": [
      "[MoviePy] Writing audio in /tmp/temp_clip.wav\n"
     ]
    },
    {
     "name": "stderr",
     "output_type": "stream",
     "text": [
      "100%|██████████| 67/67 [00:00<00:00, 536.13it/s]"
     ]
    },
    {
     "name": "stdout",
     "output_type": "stream",
     "text": [
      "[MoviePy] Done.\n"
     ]
    },
    {
     "name": "stderr",
     "output_type": "stream",
     "text": [
      "\n"
     ]
    },
    {
     "name": "stdout",
     "output_type": "stream",
     "text": [
      "[MoviePy] Writing audio in /tmp/temp_clip.wav\n"
     ]
    },
    {
     "name": "stderr",
     "output_type": "stream",
     "text": [
      "100%|██████████| 67/67 [00:00<00:00, 555.19it/s]"
     ]
    },
    {
     "name": "stdout",
     "output_type": "stream",
     "text": [
      "[MoviePy] Done.\n"
     ]
    },
    {
     "name": "stderr",
     "output_type": "stream",
     "text": [
      "\n"
     ]
    },
    {
     "name": "stdout",
     "output_type": "stream",
     "text": [
      "[MoviePy] Writing audio in /tmp/temp_clip.wav\n"
     ]
    },
    {
     "name": "stderr",
     "output_type": "stream",
     "text": [
      "100%|██████████| 67/67 [00:00<00:00, 693.23it/s]"
     ]
    },
    {
     "name": "stdout",
     "output_type": "stream",
     "text": [
      "[MoviePy] Done.\n"
     ]
    },
    {
     "name": "stderr",
     "output_type": "stream",
     "text": [
      "\n"
     ]
    },
    {
     "name": "stdout",
     "output_type": "stream",
     "text": [
      "[MoviePy] Writing audio in /tmp/temp_clip.wav\n"
     ]
    },
    {
     "name": "stderr",
     "output_type": "stream",
     "text": [
      "100%|██████████| 67/67 [00:00<00:00, 509.99it/s]"
     ]
    },
    {
     "name": "stdout",
     "output_type": "stream",
     "text": [
      "[MoviePy] Done.\n"
     ]
    },
    {
     "name": "stderr",
     "output_type": "stream",
     "text": [
      "\n"
     ]
    },
    {
     "name": "stdout",
     "output_type": "stream",
     "text": [
      "[MoviePy] Writing audio in /tmp/temp_clip.wav\n"
     ]
    },
    {
     "name": "stderr",
     "output_type": "stream",
     "text": [
      "100%|██████████| 67/67 [00:00<00:00, 583.91it/s]"
     ]
    },
    {
     "name": "stdout",
     "output_type": "stream",
     "text": [
      "[MoviePy] Done.\n"
     ]
    },
    {
     "name": "stderr",
     "output_type": "stream",
     "text": [
      "\n"
     ]
    },
    {
     "name": "stdout",
     "output_type": "stream",
     "text": [
      "[MoviePy] Writing audio in /tmp/temp_clip.wav\n"
     ]
    },
    {
     "name": "stderr",
     "output_type": "stream",
     "text": [
      "100%|██████████| 67/67 [00:00<00:00, 572.41it/s]"
     ]
    },
    {
     "name": "stdout",
     "output_type": "stream",
     "text": [
      "[MoviePy] Done.\n"
     ]
    },
    {
     "name": "stderr",
     "output_type": "stream",
     "text": [
      "\n"
     ]
    },
    {
     "name": "stdout",
     "output_type": "stream",
     "text": [
      "[MoviePy] Writing audio in /tmp/temp_clip.wav\n"
     ]
    },
    {
     "name": "stderr",
     "output_type": "stream",
     "text": [
      "100%|██████████| 67/67 [00:00<00:00, 496.57it/s]"
     ]
    },
    {
     "name": "stdout",
     "output_type": "stream",
     "text": [
      "[MoviePy] Done.\n"
     ]
    },
    {
     "name": "stderr",
     "output_type": "stream",
     "text": [
      "\n"
     ]
    },
    {
     "name": "stdout",
     "output_type": "stream",
     "text": [
      "[MoviePy] Writing audio in /tmp/temp_clip.wav\n"
     ]
    },
    {
     "name": "stderr",
     "output_type": "stream",
     "text": [
      "100%|██████████| 67/67 [00:00<00:00, 599.28it/s]"
     ]
    },
    {
     "name": "stdout",
     "output_type": "stream",
     "text": [
      "[MoviePy] Done.\n"
     ]
    },
    {
     "name": "stderr",
     "output_type": "stream",
     "text": [
      "\n"
     ]
    },
    {
     "name": "stdout",
     "output_type": "stream",
     "text": [
      "[MoviePy] Writing audio in /tmp/temp_clip.wav\n"
     ]
    },
    {
     "name": "stderr",
     "output_type": "stream",
     "text": [
      "100%|██████████| 67/67 [00:00<00:00, 438.40it/s]"
     ]
    },
    {
     "name": "stdout",
     "output_type": "stream",
     "text": [
      "[MoviePy] Done.\n"
     ]
    },
    {
     "name": "stderr",
     "output_type": "stream",
     "text": [
      "\n"
     ]
    },
    {
     "name": "stdout",
     "output_type": "stream",
     "text": [
      "[MoviePy] Writing audio in /tmp/temp_clip.wav\n"
     ]
    },
    {
     "name": "stderr",
     "output_type": "stream",
     "text": [
      "100%|██████████| 67/67 [00:00<00:00, 577.88it/s]"
     ]
    },
    {
     "name": "stdout",
     "output_type": "stream",
     "text": [
      "[MoviePy] Done.\n"
     ]
    },
    {
     "name": "stderr",
     "output_type": "stream",
     "text": [
      "\n"
     ]
    },
    {
     "name": "stdout",
     "output_type": "stream",
     "text": [
      "[MoviePy] Writing audio in /tmp/temp_clip.wav\n"
     ]
    },
    {
     "name": "stderr",
     "output_type": "stream",
     "text": [
      "100%|██████████| 67/67 [00:00<00:00, 551.85it/s]"
     ]
    },
    {
     "name": "stdout",
     "output_type": "stream",
     "text": [
      "[MoviePy] Done.\n"
     ]
    },
    {
     "name": "stderr",
     "output_type": "stream",
     "text": [
      "\n"
     ]
    },
    {
     "name": "stdout",
     "output_type": "stream",
     "text": [
      "[MoviePy] Writing audio in /tmp/temp_clip.wav\n"
     ]
    },
    {
     "name": "stderr",
     "output_type": "stream",
     "text": [
      "100%|██████████| 67/67 [00:00<00:00, 638.15it/s]"
     ]
    },
    {
     "name": "stdout",
     "output_type": "stream",
     "text": [
      "[MoviePy] Done.\n"
     ]
    },
    {
     "name": "stderr",
     "output_type": "stream",
     "text": [
      "\n"
     ]
    },
    {
     "name": "stdout",
     "output_type": "stream",
     "text": [
      "[MoviePy] Writing audio in /tmp/temp_clip.wav\n"
     ]
    },
    {
     "name": "stderr",
     "output_type": "stream",
     "text": [
      "100%|██████████| 67/67 [00:00<00:00, 563.23it/s]"
     ]
    },
    {
     "name": "stdout",
     "output_type": "stream",
     "text": [
      "[MoviePy] Done.\n"
     ]
    },
    {
     "name": "stderr",
     "output_type": "stream",
     "text": [
      "\n"
     ]
    },
    {
     "name": "stdout",
     "output_type": "stream",
     "text": [
      "[MoviePy] Writing audio in /tmp/temp_clip.wav\n"
     ]
    },
    {
     "name": "stderr",
     "output_type": "stream",
     "text": [
      "100%|██████████| 67/67 [00:00<00:00, 681.25it/s]"
     ]
    },
    {
     "name": "stdout",
     "output_type": "stream",
     "text": [
      "[MoviePy] Done.\n"
     ]
    },
    {
     "name": "stderr",
     "output_type": "stream",
     "text": [
      "\n"
     ]
    },
    {
     "name": "stdout",
     "output_type": "stream",
     "text": [
      "[MoviePy] Writing audio in /tmp/temp_clip.wav\n"
     ]
    },
    {
     "name": "stderr",
     "output_type": "stream",
     "text": [
      "100%|██████████| 67/67 [00:00<00:00, 689.19it/s]"
     ]
    },
    {
     "name": "stdout",
     "output_type": "stream",
     "text": [
      "[MoviePy] Done.\n"
     ]
    },
    {
     "name": "stderr",
     "output_type": "stream",
     "text": [
      "\n"
     ]
    },
    {
     "name": "stdout",
     "output_type": "stream",
     "text": [
      "[MoviePy] Writing audio in /tmp/temp_clip.wav\n"
     ]
    },
    {
     "name": "stderr",
     "output_type": "stream",
     "text": [
      "100%|██████████| 67/67 [00:00<00:00, 475.08it/s]"
     ]
    },
    {
     "name": "stdout",
     "output_type": "stream",
     "text": [
      "[MoviePy] Done.\n"
     ]
    },
    {
     "name": "stderr",
     "output_type": "stream",
     "text": [
      "\n"
     ]
    },
    {
     "name": "stdout",
     "output_type": "stream",
     "text": [
      "[MoviePy] Writing audio in /tmp/temp_clip.wav\n"
     ]
    },
    {
     "name": "stderr",
     "output_type": "stream",
     "text": [
      "100%|██████████| 67/67 [00:00<00:00, 419.21it/s]"
     ]
    },
    {
     "name": "stdout",
     "output_type": "stream",
     "text": [
      "[MoviePy] Done.\n"
     ]
    },
    {
     "name": "stderr",
     "output_type": "stream",
     "text": [
      "\n"
     ]
    },
    {
     "name": "stdout",
     "output_type": "stream",
     "text": [
      "[MoviePy] Writing audio in /tmp/temp_clip.wav\n"
     ]
    },
    {
     "name": "stderr",
     "output_type": "stream",
     "text": [
      "100%|██████████| 67/67 [00:00<00:00, 482.30it/s]"
     ]
    },
    {
     "name": "stdout",
     "output_type": "stream",
     "text": [
      "[MoviePy] Done.\n"
     ]
    },
    {
     "name": "stderr",
     "output_type": "stream",
     "text": [
      "\n"
     ]
    },
    {
     "name": "stdout",
     "output_type": "stream",
     "text": [
      "[MoviePy] Writing audio in /tmp/temp_clip.wav\n"
     ]
    },
    {
     "name": "stderr",
     "output_type": "stream",
     "text": [
      "100%|██████████| 67/67 [00:00<00:00, 581.38it/s]"
     ]
    },
    {
     "name": "stdout",
     "output_type": "stream",
     "text": [
      "[MoviePy] Done.\n"
     ]
    },
    {
     "name": "stderr",
     "output_type": "stream",
     "text": [
      "\n"
     ]
    },
    {
     "name": "stdout",
     "output_type": "stream",
     "text": [
      "[MoviePy] Writing audio in /tmp/temp_clip.wav\n"
     ]
    },
    {
     "name": "stderr",
     "output_type": "stream",
     "text": [
      "100%|██████████| 67/67 [00:00<00:00, 446.45it/s]"
     ]
    },
    {
     "name": "stdout",
     "output_type": "stream",
     "text": [
      "[MoviePy] Done.\n"
     ]
    },
    {
     "name": "stderr",
     "output_type": "stream",
     "text": [
      "\n"
     ]
    },
    {
     "name": "stdout",
     "output_type": "stream",
     "text": [
      "[MoviePy] Writing audio in /tmp/temp_clip.wav\n"
     ]
    },
    {
     "name": "stderr",
     "output_type": "stream",
     "text": [
      "100%|██████████| 67/67 [00:00<00:00, 588.64it/s]"
     ]
    },
    {
     "name": "stdout",
     "output_type": "stream",
     "text": [
      "[MoviePy] Done.\n"
     ]
    },
    {
     "name": "stderr",
     "output_type": "stream",
     "text": [
      "\n"
     ]
    },
    {
     "name": "stdout",
     "output_type": "stream",
     "text": [
      "[MoviePy] Writing audio in /tmp/temp_clip.wav\n"
     ]
    },
    {
     "name": "stderr",
     "output_type": "stream",
     "text": [
      "100%|██████████| 67/67 [00:00<00:00, 506.12it/s]"
     ]
    },
    {
     "name": "stdout",
     "output_type": "stream",
     "text": [
      "[MoviePy] Done.\n"
     ]
    },
    {
     "name": "stderr",
     "output_type": "stream",
     "text": [
      "\n"
     ]
    },
    {
     "name": "stdout",
     "output_type": "stream",
     "text": [
      "[MoviePy] Writing audio in /tmp/temp_clip.wav\n"
     ]
    },
    {
     "name": "stderr",
     "output_type": "stream",
     "text": [
      "100%|██████████| 67/67 [00:00<00:00, 540.51it/s]"
     ]
    },
    {
     "name": "stdout",
     "output_type": "stream",
     "text": [
      "[MoviePy] Done.\n"
     ]
    },
    {
     "name": "stderr",
     "output_type": "stream",
     "text": [
      "\n"
     ]
    },
    {
     "name": "stdout",
     "output_type": "stream",
     "text": [
      "[MoviePy] Writing audio in /tmp/temp_clip.wav\n"
     ]
    },
    {
     "name": "stderr",
     "output_type": "stream",
     "text": [
      "100%|██████████| 67/67 [00:00<00:00, 690.81it/s]"
     ]
    },
    {
     "name": "stdout",
     "output_type": "stream",
     "text": [
      "[MoviePy] Done.\n"
     ]
    },
    {
     "name": "stderr",
     "output_type": "stream",
     "text": [
      "\n"
     ]
    },
    {
     "name": "stdout",
     "output_type": "stream",
     "text": [
      "[MoviePy] Writing audio in /tmp/temp_clip.wav\n"
     ]
    },
    {
     "name": "stderr",
     "output_type": "stream",
     "text": [
      "100%|██████████| 67/67 [00:00<00:00, 465.50it/s]"
     ]
    },
    {
     "name": "stdout",
     "output_type": "stream",
     "text": [
      "[MoviePy] Done.\n"
     ]
    },
    {
     "name": "stderr",
     "output_type": "stream",
     "text": [
      "\n"
     ]
    },
    {
     "name": "stdout",
     "output_type": "stream",
     "text": [
      "[MoviePy] Writing audio in /tmp/temp_clip.wav\n"
     ]
    },
    {
     "name": "stderr",
     "output_type": "stream",
     "text": [
      "100%|██████████| 67/67 [00:00<00:00, 622.07it/s]"
     ]
    },
    {
     "name": "stdout",
     "output_type": "stream",
     "text": [
      "[MoviePy] Done.\n"
     ]
    },
    {
     "name": "stderr",
     "output_type": "stream",
     "text": [
      "\n"
     ]
    },
    {
     "name": "stdout",
     "output_type": "stream",
     "text": [
      "[MoviePy] Writing audio in /tmp/temp_clip.wav\n"
     ]
    },
    {
     "name": "stderr",
     "output_type": "stream",
     "text": [
      "100%|██████████| 67/67 [00:00<00:00, 468.17it/s]"
     ]
    },
    {
     "name": "stdout",
     "output_type": "stream",
     "text": [
      "[MoviePy] Done.\n"
     ]
    },
    {
     "name": "stderr",
     "output_type": "stream",
     "text": [
      "\n"
     ]
    },
    {
     "name": "stdout",
     "output_type": "stream",
     "text": [
      "[MoviePy] Writing audio in /tmp/temp_clip.wav\n"
     ]
    },
    {
     "name": "stderr",
     "output_type": "stream",
     "text": [
      "100%|██████████| 67/67 [00:00<00:00, 547.33it/s]"
     ]
    },
    {
     "name": "stdout",
     "output_type": "stream",
     "text": [
      "[MoviePy] Done.\n"
     ]
    },
    {
     "name": "stderr",
     "output_type": "stream",
     "text": [
      "\n"
     ]
    },
    {
     "name": "stdout",
     "output_type": "stream",
     "text": [
      "[MoviePy] Writing audio in /tmp/temp_clip.wav\n"
     ]
    },
    {
     "name": "stderr",
     "output_type": "stream",
     "text": [
      "100%|██████████| 67/67 [00:00<00:00, 539.99it/s]"
     ]
    },
    {
     "name": "stdout",
     "output_type": "stream",
     "text": [
      "[MoviePy] Done.\n"
     ]
    },
    {
     "name": "stderr",
     "output_type": "stream",
     "text": [
      "\n"
     ]
    },
    {
     "name": "stdout",
     "output_type": "stream",
     "text": [
      "[MoviePy] Writing audio in /tmp/temp_clip.wav\n"
     ]
    },
    {
     "name": "stderr",
     "output_type": "stream",
     "text": [
      "100%|██████████| 67/67 [00:00<00:00, 517.99it/s]"
     ]
    },
    {
     "name": "stdout",
     "output_type": "stream",
     "text": [
      "[MoviePy] Done.\n"
     ]
    },
    {
     "name": "stderr",
     "output_type": "stream",
     "text": [
      "\n"
     ]
    },
    {
     "name": "stdout",
     "output_type": "stream",
     "text": [
      "[MoviePy] Writing audio in /tmp/temp_clip.wav\n"
     ]
    },
    {
     "name": "stderr",
     "output_type": "stream",
     "text": [
      "100%|██████████| 67/67 [00:00<00:00, 580.65it/s]"
     ]
    },
    {
     "name": "stdout",
     "output_type": "stream",
     "text": [
      "[MoviePy] Done.\n"
     ]
    },
    {
     "name": "stderr",
     "output_type": "stream",
     "text": [
      "\n"
     ]
    },
    {
     "name": "stdout",
     "output_type": "stream",
     "text": [
      "[MoviePy] Writing audio in /tmp/temp_clip.wav\n"
     ]
    },
    {
     "name": "stderr",
     "output_type": "stream",
     "text": [
      "100%|██████████| 67/67 [00:00<00:00, 506.36it/s]"
     ]
    },
    {
     "name": "stdout",
     "output_type": "stream",
     "text": [
      "[MoviePy] Done.\n"
     ]
    },
    {
     "name": "stderr",
     "output_type": "stream",
     "text": [
      "\n"
     ]
    },
    {
     "name": "stdout",
     "output_type": "stream",
     "text": [
      "[MoviePy] Writing audio in /tmp/temp_clip.wav\n"
     ]
    },
    {
     "name": "stderr",
     "output_type": "stream",
     "text": [
      "100%|██████████| 67/67 [00:00<00:00, 562.96it/s]"
     ]
    },
    {
     "name": "stdout",
     "output_type": "stream",
     "text": [
      "[MoviePy] Done.\n"
     ]
    },
    {
     "name": "stderr",
     "output_type": "stream",
     "text": [
      "\n"
     ]
    },
    {
     "name": "stdout",
     "output_type": "stream",
     "text": [
      "[MoviePy] Writing audio in /tmp/temp_clip.wav\n"
     ]
    },
    {
     "name": "stderr",
     "output_type": "stream",
     "text": [
      "100%|██████████| 67/67 [00:00<00:00, 620.53it/s]"
     ]
    },
    {
     "name": "stdout",
     "output_type": "stream",
     "text": [
      "[MoviePy] Done.\n"
     ]
    },
    {
     "name": "stderr",
     "output_type": "stream",
     "text": [
      "\n"
     ]
    },
    {
     "name": "stdout",
     "output_type": "stream",
     "text": [
      "[MoviePy] Writing audio in /tmp/temp_clip.wav\n"
     ]
    },
    {
     "name": "stderr",
     "output_type": "stream",
     "text": [
      "100%|██████████| 67/67 [00:00<00:00, 585.99it/s]"
     ]
    },
    {
     "name": "stdout",
     "output_type": "stream",
     "text": [
      "[MoviePy] Done.\n"
     ]
    },
    {
     "name": "stderr",
     "output_type": "stream",
     "text": [
      "\n"
     ]
    },
    {
     "name": "stdout",
     "output_type": "stream",
     "text": [
      "[MoviePy] Writing audio in /tmp/temp_clip.wav\n"
     ]
    },
    {
     "name": "stderr",
     "output_type": "stream",
     "text": [
      "100%|██████████| 67/67 [00:00<00:00, 467.45it/s]"
     ]
    },
    {
     "name": "stdout",
     "output_type": "stream",
     "text": [
      "[MoviePy] Done.\n"
     ]
    },
    {
     "name": "stderr",
     "output_type": "stream",
     "text": [
      "\n"
     ]
    },
    {
     "name": "stdout",
     "output_type": "stream",
     "text": [
      "[MoviePy] Writing audio in /tmp/temp_clip.wav\n"
     ]
    },
    {
     "name": "stderr",
     "output_type": "stream",
     "text": [
      "100%|██████████| 67/67 [00:00<00:00, 444.68it/s]"
     ]
    },
    {
     "name": "stdout",
     "output_type": "stream",
     "text": [
      "[MoviePy] Done.\n"
     ]
    },
    {
     "name": "stderr",
     "output_type": "stream",
     "text": [
      "\n"
     ]
    },
    {
     "name": "stdout",
     "output_type": "stream",
     "text": [
      "[MoviePy] Writing audio in /tmp/temp_clip.wav\n"
     ]
    },
    {
     "name": "stderr",
     "output_type": "stream",
     "text": [
      "100%|██████████| 67/67 [00:00<00:00, 329.63it/s]"
     ]
    },
    {
     "name": "stdout",
     "output_type": "stream",
     "text": [
      "[MoviePy] Done.\n"
     ]
    },
    {
     "name": "stderr",
     "output_type": "stream",
     "text": [
      "\n"
     ]
    },
    {
     "name": "stdout",
     "output_type": "stream",
     "text": [
      "[MoviePy] Writing audio in /tmp/temp_clip.wav\n"
     ]
    },
    {
     "name": "stderr",
     "output_type": "stream",
     "text": [
      "100%|██████████| 67/67 [00:00<00:00, 624.99it/s]"
     ]
    },
    {
     "name": "stdout",
     "output_type": "stream",
     "text": [
      "[MoviePy] Done.\n"
     ]
    },
    {
     "name": "stderr",
     "output_type": "stream",
     "text": [
      "\n"
     ]
    },
    {
     "name": "stdout",
     "output_type": "stream",
     "text": [
      "[MoviePy] Writing audio in /tmp/temp_clip.wav\n"
     ]
    },
    {
     "name": "stderr",
     "output_type": "stream",
     "text": [
      "100%|██████████| 67/67 [00:00<00:00, 529.31it/s]"
     ]
    },
    {
     "name": "stdout",
     "output_type": "stream",
     "text": [
      "[MoviePy] Done.\n"
     ]
    },
    {
     "name": "stderr",
     "output_type": "stream",
     "text": [
      "\n"
     ]
    },
    {
     "name": "stdout",
     "output_type": "stream",
     "text": [
      "[MoviePy] Writing audio in /tmp/temp_clip.wav\n"
     ]
    },
    {
     "name": "stderr",
     "output_type": "stream",
     "text": [
      "100%|██████████| 67/67 [00:00<00:00, 406.84it/s]"
     ]
    },
    {
     "name": "stdout",
     "output_type": "stream",
     "text": [
      "[MoviePy] Done.\n"
     ]
    },
    {
     "name": "stderr",
     "output_type": "stream",
     "text": [
      "\n"
     ]
    },
    {
     "name": "stdout",
     "output_type": "stream",
     "text": [
      "[MoviePy] Writing audio in /tmp/temp_clip.wav\n"
     ]
    },
    {
     "name": "stderr",
     "output_type": "stream",
     "text": [
      "100%|██████████| 67/67 [00:00<00:00, 412.26it/s]"
     ]
    },
    {
     "name": "stdout",
     "output_type": "stream",
     "text": [
      "[MoviePy] Done.\n"
     ]
    },
    {
     "name": "stderr",
     "output_type": "stream",
     "text": [
      "\n"
     ]
    },
    {
     "name": "stdout",
     "output_type": "stream",
     "text": [
      "[MoviePy] Writing audio in /tmp/temp_clip.wav\n"
     ]
    },
    {
     "name": "stderr",
     "output_type": "stream",
     "text": [
      "100%|██████████| 67/67 [00:00<00:00, 435.94it/s]"
     ]
    },
    {
     "name": "stdout",
     "output_type": "stream",
     "text": [
      "[MoviePy] Done.\n"
     ]
    },
    {
     "name": "stderr",
     "output_type": "stream",
     "text": [
      "\n"
     ]
    },
    {
     "name": "stdout",
     "output_type": "stream",
     "text": [
      "[MoviePy] Writing audio in /tmp/temp_clip.wav\n"
     ]
    },
    {
     "name": "stderr",
     "output_type": "stream",
     "text": [
      "100%|██████████| 67/67 [00:00<00:00, 471.10it/s]"
     ]
    },
    {
     "name": "stdout",
     "output_type": "stream",
     "text": [
      "[MoviePy] Done.\n"
     ]
    },
    {
     "name": "stderr",
     "output_type": "stream",
     "text": [
      "\n"
     ]
    },
    {
     "name": "stdout",
     "output_type": "stream",
     "text": [
      "[MoviePy] Writing audio in /tmp/temp_clip.wav\n"
     ]
    },
    {
     "name": "stderr",
     "output_type": "stream",
     "text": [
      "100%|██████████| 67/67 [00:00<00:00, 421.38it/s]"
     ]
    },
    {
     "name": "stdout",
     "output_type": "stream",
     "text": [
      "[MoviePy] Done.\n"
     ]
    },
    {
     "name": "stderr",
     "output_type": "stream",
     "text": [
      "\n"
     ]
    },
    {
     "name": "stdout",
     "output_type": "stream",
     "text": [
      "[MoviePy] Writing audio in /tmp/temp_clip.wav\n"
     ]
    },
    {
     "name": "stderr",
     "output_type": "stream",
     "text": [
      "100%|██████████| 67/67 [00:00<00:00, 414.78it/s]"
     ]
    },
    {
     "name": "stdout",
     "output_type": "stream",
     "text": [
      "[MoviePy] Done.\n"
     ]
    },
    {
     "name": "stderr",
     "output_type": "stream",
     "text": [
      "\n"
     ]
    },
    {
     "name": "stdout",
     "output_type": "stream",
     "text": [
      "[MoviePy] Writing audio in /tmp/temp_clip.wav\n"
     ]
    },
    {
     "name": "stderr",
     "output_type": "stream",
     "text": [
      "100%|██████████| 67/67 [00:00<00:00, 389.18it/s]"
     ]
    },
    {
     "name": "stdout",
     "output_type": "stream",
     "text": [
      "[MoviePy] Done.\n"
     ]
    },
    {
     "name": "stderr",
     "output_type": "stream",
     "text": [
      "\n"
     ]
    },
    {
     "name": "stdout",
     "output_type": "stream",
     "text": [
      "[MoviePy] Writing audio in /tmp/temp_clip.wav\n"
     ]
    },
    {
     "name": "stderr",
     "output_type": "stream",
     "text": [
      "100%|██████████| 67/67 [00:00<00:00, 299.09it/s]"
     ]
    },
    {
     "name": "stdout",
     "output_type": "stream",
     "text": [
      "[MoviePy] Done.\n"
     ]
    },
    {
     "name": "stderr",
     "output_type": "stream",
     "text": [
      "\n"
     ]
    },
    {
     "name": "stdout",
     "output_type": "stream",
     "text": [
      "[MoviePy] Writing audio in /tmp/temp_clip.wav\n"
     ]
    },
    {
     "name": "stderr",
     "output_type": "stream",
     "text": [
      "100%|██████████| 67/67 [00:00<00:00, 260.48it/s]"
     ]
    },
    {
     "name": "stdout",
     "output_type": "stream",
     "text": [
      "[MoviePy] Done.\n"
     ]
    },
    {
     "name": "stderr",
     "output_type": "stream",
     "text": [
      "\n"
     ]
    },
    {
     "name": "stdout",
     "output_type": "stream",
     "text": [
      "[MoviePy] Writing audio in /tmp/temp_clip.wav\n"
     ]
    },
    {
     "name": "stderr",
     "output_type": "stream",
     "text": [
      "100%|██████████| 67/67 [00:00<00:00, 234.23it/s]"
     ]
    },
    {
     "name": "stdout",
     "output_type": "stream",
     "text": [
      "[MoviePy] Done.\n"
     ]
    },
    {
     "name": "stderr",
     "output_type": "stream",
     "text": [
      "\n"
     ]
    },
    {
     "name": "stdout",
     "output_type": "stream",
     "text": [
      "[MoviePy] Writing audio in /tmp/temp_clip.wav\n"
     ]
    },
    {
     "name": "stderr",
     "output_type": "stream",
     "text": [
      "100%|██████████| 67/67 [00:00<00:00, 165.15it/s]"
     ]
    },
    {
     "name": "stdout",
     "output_type": "stream",
     "text": [
      "[MoviePy] Done.\n"
     ]
    },
    {
     "name": "stderr",
     "output_type": "stream",
     "text": [
      "\n"
     ]
    },
    {
     "name": "stdout",
     "output_type": "stream",
     "text": [
      "[MoviePy] Writing audio in /tmp/temp_clip.wav\n"
     ]
    },
    {
     "name": "stderr",
     "output_type": "stream",
     "text": [
      "100%|██████████| 67/67 [00:00<00:00, 159.36it/s]\n"
     ]
    },
    {
     "name": "stdout",
     "output_type": "stream",
     "text": [
      "[MoviePy] Done.\n",
      "[MoviePy] Writing audio in /tmp/temp_clip.wav\n"
     ]
    },
    {
     "name": "stderr",
     "output_type": "stream",
     "text": [
      "100%|██████████| 67/67 [00:00<00:00, 116.28it/s]\n"
     ]
    },
    {
     "name": "stdout",
     "output_type": "stream",
     "text": [
      "[MoviePy] Done.\n",
      "[MoviePy] Writing audio in /tmp/temp_clip.wav\n"
     ]
    },
    {
     "name": "stderr",
     "output_type": "stream",
     "text": [
      "100%|██████████| 67/67 [00:00<00:00, 201.88it/s]"
     ]
    },
    {
     "name": "stdout",
     "output_type": "stream",
     "text": [
      "[MoviePy] Done.\n"
     ]
    },
    {
     "name": "stderr",
     "output_type": "stream",
     "text": [
      "\n"
     ]
    },
    {
     "name": "stdout",
     "output_type": "stream",
     "text": [
      "[MoviePy] Writing audio in /tmp/temp_clip.wav\n"
     ]
    },
    {
     "name": "stderr",
     "output_type": "stream",
     "text": [
      "100%|██████████| 67/67 [00:00<00:00, 167.89it/s]"
     ]
    },
    {
     "name": "stdout",
     "output_type": "stream",
     "text": [
      "[MoviePy] Done.\n"
     ]
    },
    {
     "name": "stderr",
     "output_type": "stream",
     "text": [
      "\n"
     ]
    },
    {
     "name": "stdout",
     "output_type": "stream",
     "text": [
      "[MoviePy] Writing audio in /tmp/temp_clip.wav\n"
     ]
    },
    {
     "name": "stderr",
     "output_type": "stream",
     "text": [
      "100%|██████████| 67/67 [00:00<00:00, 205.95it/s]"
     ]
    },
    {
     "name": "stdout",
     "output_type": "stream",
     "text": [
      "[MoviePy] Done.\n"
     ]
    },
    {
     "name": "stderr",
     "output_type": "stream",
     "text": [
      "\n"
     ]
    },
    {
     "name": "stdout",
     "output_type": "stream",
     "text": [
      "[MoviePy] Writing audio in /tmp/temp_clip.wav\n"
     ]
    },
    {
     "name": "stderr",
     "output_type": "stream",
     "text": [
      "100%|██████████| 67/67 [00:00<00:00, 148.31it/s]"
     ]
    },
    {
     "name": "stdout",
     "output_type": "stream",
     "text": [
      "[MoviePy] Done.\n"
     ]
    },
    {
     "name": "stderr",
     "output_type": "stream",
     "text": [
      "\n"
     ]
    },
    {
     "name": "stdout",
     "output_type": "stream",
     "text": [
      "[MoviePy] Writing audio in /tmp/temp_clip.wav\n"
     ]
    },
    {
     "name": "stderr",
     "output_type": "stream",
     "text": [
      "100%|██████████| 67/67 [00:00<00:00, 204.16it/s]"
     ]
    },
    {
     "name": "stdout",
     "output_type": "stream",
     "text": [
      "[MoviePy] Done.\n"
     ]
    },
    {
     "name": "stderr",
     "output_type": "stream",
     "text": [
      "\n"
     ]
    },
    {
     "name": "stdout",
     "output_type": "stream",
     "text": [
      "[MoviePy] Writing audio in /tmp/temp_clip.wav\n"
     ]
    },
    {
     "name": "stderr",
     "output_type": "stream",
     "text": [
      "100%|██████████| 67/67 [00:00<00:00, 128.76it/s]\n"
     ]
    },
    {
     "name": "stdout",
     "output_type": "stream",
     "text": [
      "[MoviePy] Done.\n",
      "[MoviePy] Writing audio in /tmp/temp_clip.wav\n"
     ]
    },
    {
     "name": "stderr",
     "output_type": "stream",
     "text": [
      "100%|██████████| 67/67 [00:00<00:00, 188.29it/s]"
     ]
    },
    {
     "name": "stdout",
     "output_type": "stream",
     "text": [
      "[MoviePy] Done.\n"
     ]
    },
    {
     "name": "stderr",
     "output_type": "stream",
     "text": [
      "\n"
     ]
    },
    {
     "name": "stdout",
     "output_type": "stream",
     "text": [
      "[MoviePy] Writing audio in /tmp/temp_clip.wav\n"
     ]
    },
    {
     "name": "stderr",
     "output_type": "stream",
     "text": [
      "100%|██████████| 67/67 [00:00<00:00, 117.15it/s]"
     ]
    },
    {
     "name": "stdout",
     "output_type": "stream",
     "text": [
      "[MoviePy] Done.\n"
     ]
    },
    {
     "name": "stderr",
     "output_type": "stream",
     "text": [
      "\n"
     ]
    },
    {
     "name": "stdout",
     "output_type": "stream",
     "text": [
      "[MoviePy] Writing audio in /tmp/temp_clip.wav\n"
     ]
    },
    {
     "name": "stderr",
     "output_type": "stream",
     "text": [
      "100%|██████████| 67/67 [00:00<00:00, 132.62it/s]"
     ]
    },
    {
     "name": "stdout",
     "output_type": "stream",
     "text": [
      "[MoviePy] Done.\n"
     ]
    },
    {
     "name": "stderr",
     "output_type": "stream",
     "text": [
      "\n"
     ]
    },
    {
     "name": "stdout",
     "output_type": "stream",
     "text": [
      "[MoviePy] Writing audio in /tmp/temp_clip.wav\n"
     ]
    },
    {
     "name": "stderr",
     "output_type": "stream",
     "text": [
      "100%|██████████| 67/67 [00:00<00:00, 148.98it/s]"
     ]
    },
    {
     "name": "stdout",
     "output_type": "stream",
     "text": [
      "[MoviePy] Done.\n"
     ]
    },
    {
     "name": "stderr",
     "output_type": "stream",
     "text": [
      "\n"
     ]
    },
    {
     "name": "stdout",
     "output_type": "stream",
     "text": [
      "[MoviePy] Writing audio in /tmp/temp_clip.wav\n"
     ]
    },
    {
     "name": "stderr",
     "output_type": "stream",
     "text": [
      "100%|██████████| 67/67 [00:00<00:00, 137.82it/s]"
     ]
    },
    {
     "name": "stdout",
     "output_type": "stream",
     "text": [
      "[MoviePy] Done.\n"
     ]
    },
    {
     "name": "stderr",
     "output_type": "stream",
     "text": [
      "\n"
     ]
    },
    {
     "name": "stdout",
     "output_type": "stream",
     "text": [
      "[MoviePy] Writing audio in /tmp/temp_clip.wav\n"
     ]
    },
    {
     "name": "stderr",
     "output_type": "stream",
     "text": [
      "100%|██████████| 67/67 [00:00<00:00, 64.15it/s]"
     ]
    },
    {
     "name": "stdout",
     "output_type": "stream",
     "text": [
      "[MoviePy] Done.\n"
     ]
    },
    {
     "name": "stderr",
     "output_type": "stream",
     "text": [
      "\n"
     ]
    },
    {
     "name": "stdout",
     "output_type": "stream",
     "text": [
      "[MoviePy] Writing audio in /tmp/temp_clip.wav\n"
     ]
    },
    {
     "name": "stderr",
     "output_type": "stream",
     "text": [
      "100%|██████████| 67/67 [00:00<00:00, 155.45it/s]"
     ]
    },
    {
     "name": "stdout",
     "output_type": "stream",
     "text": [
      "[MoviePy] Done.\n"
     ]
    },
    {
     "name": "stderr",
     "output_type": "stream",
     "text": [
      "\n"
     ]
    },
    {
     "name": "stdout",
     "output_type": "stream",
     "text": [
      "[MoviePy] Writing audio in /tmp/temp_clip.wav\n"
     ]
    },
    {
     "name": "stderr",
     "output_type": "stream",
     "text": [
      "100%|██████████| 67/67 [00:00<00:00, 169.54it/s]"
     ]
    },
    {
     "name": "stdout",
     "output_type": "stream",
     "text": [
      "[MoviePy] Done.\n"
     ]
    },
    {
     "name": "stderr",
     "output_type": "stream",
     "text": [
      "\n"
     ]
    },
    {
     "name": "stdout",
     "output_type": "stream",
     "text": [
      "[MoviePy] Writing audio in /tmp/temp_clip.wav\n"
     ]
    },
    {
     "name": "stderr",
     "output_type": "stream",
     "text": [
      "100%|██████████| 67/67 [00:00<00:00, 170.30it/s]\n"
     ]
    },
    {
     "name": "stdout",
     "output_type": "stream",
     "text": [
      "[MoviePy] Done.\n",
      "[MoviePy] Writing audio in /tmp/temp_clip.wav\n"
     ]
    },
    {
     "name": "stderr",
     "output_type": "stream",
     "text": [
      "100%|██████████| 67/67 [00:00<00:00, 175.72it/s]"
     ]
    },
    {
     "name": "stdout",
     "output_type": "stream",
     "text": [
      "[MoviePy] Done.\n"
     ]
    },
    {
     "name": "stderr",
     "output_type": "stream",
     "text": [
      "\n"
     ]
    },
    {
     "name": "stdout",
     "output_type": "stream",
     "text": [
      "[MoviePy] Writing audio in /tmp/temp_clip.wav\n"
     ]
    },
    {
     "name": "stderr",
     "output_type": "stream",
     "text": [
      "100%|██████████| 67/67 [00:00<00:00, 195.57it/s]"
     ]
    },
    {
     "name": "stdout",
     "output_type": "stream",
     "text": [
      "[MoviePy] Done.\n"
     ]
    },
    {
     "name": "stderr",
     "output_type": "stream",
     "text": [
      "\n"
     ]
    },
    {
     "name": "stdout",
     "output_type": "stream",
     "text": [
      "[MoviePy] Writing audio in /tmp/temp_clip.wav\n"
     ]
    },
    {
     "name": "stderr",
     "output_type": "stream",
     "text": [
      "100%|██████████| 67/67 [00:00<00:00, 216.85it/s]"
     ]
    },
    {
     "name": "stdout",
     "output_type": "stream",
     "text": [
      "[MoviePy] Done.\n"
     ]
    },
    {
     "name": "stderr",
     "output_type": "stream",
     "text": [
      "\n"
     ]
    },
    {
     "name": "stdout",
     "output_type": "stream",
     "text": [
      "[MoviePy] Writing audio in /tmp/temp_clip.wav\n"
     ]
    },
    {
     "name": "stderr",
     "output_type": "stream",
     "text": [
      "100%|██████████| 67/67 [00:00<00:00, 242.25it/s]"
     ]
    },
    {
     "name": "stdout",
     "output_type": "stream",
     "text": [
      "[MoviePy] Done.\n"
     ]
    },
    {
     "name": "stderr",
     "output_type": "stream",
     "text": [
      "\n"
     ]
    },
    {
     "name": "stdout",
     "output_type": "stream",
     "text": [
      "[MoviePy] Writing audio in /tmp/temp_clip.wav\n"
     ]
    },
    {
     "name": "stderr",
     "output_type": "stream",
     "text": [
      "100%|██████████| 67/67 [00:00<00:00, 294.03it/s]"
     ]
    },
    {
     "name": "stdout",
     "output_type": "stream",
     "text": [
      "[MoviePy] Done.\n"
     ]
    },
    {
     "name": "stderr",
     "output_type": "stream",
     "text": [
      "\n"
     ]
    },
    {
     "name": "stdout",
     "output_type": "stream",
     "text": [
      "[MoviePy] Writing audio in /tmp/temp_clip.wav\n"
     ]
    },
    {
     "name": "stderr",
     "output_type": "stream",
     "text": [
      "100%|██████████| 67/67 [00:00<00:00, 221.55it/s]"
     ]
    },
    {
     "name": "stdout",
     "output_type": "stream",
     "text": [
      "[MoviePy] Done.\n"
     ]
    },
    {
     "name": "stderr",
     "output_type": "stream",
     "text": [
      "\n"
     ]
    },
    {
     "name": "stdout",
     "output_type": "stream",
     "text": [
      "[MoviePy] Writing audio in /tmp/temp_clip.wav\n"
     ]
    },
    {
     "name": "stderr",
     "output_type": "stream",
     "text": [
      "100%|██████████| 67/67 [00:00<00:00, 283.90it/s]"
     ]
    },
    {
     "name": "stdout",
     "output_type": "stream",
     "text": [
      "[MoviePy] Done.\n"
     ]
    },
    {
     "name": "stderr",
     "output_type": "stream",
     "text": [
      "\n"
     ]
    },
    {
     "name": "stdout",
     "output_type": "stream",
     "text": [
      "[MoviePy] Writing audio in /tmp/temp_clip.wav\n"
     ]
    },
    {
     "name": "stderr",
     "output_type": "stream",
     "text": [
      "100%|██████████| 67/67 [00:00<00:00, 304.53it/s]"
     ]
    },
    {
     "name": "stdout",
     "output_type": "stream",
     "text": [
      "[MoviePy] Done.\n"
     ]
    },
    {
     "name": "stderr",
     "output_type": "stream",
     "text": [
      "\n"
     ]
    },
    {
     "name": "stdout",
     "output_type": "stream",
     "text": [
      "[MoviePy] Writing audio in /tmp/temp_clip.wav\n"
     ]
    },
    {
     "name": "stderr",
     "output_type": "stream",
     "text": [
      "100%|██████████| 67/67 [00:00<00:00, 268.11it/s]"
     ]
    },
    {
     "name": "stdout",
     "output_type": "stream",
     "text": [
      "[MoviePy] Done.\n"
     ]
    },
    {
     "name": "stderr",
     "output_type": "stream",
     "text": [
      "\n"
     ]
    },
    {
     "name": "stdout",
     "output_type": "stream",
     "text": [
      "[MoviePy] Writing audio in /tmp/temp_clip.wav\n"
     ]
    },
    {
     "name": "stderr",
     "output_type": "stream",
     "text": [
      "100%|██████████| 67/67 [00:00<00:00, 367.98it/s]"
     ]
    },
    {
     "name": "stdout",
     "output_type": "stream",
     "text": [
      "[MoviePy] Done.\n"
     ]
    },
    {
     "name": "stderr",
     "output_type": "stream",
     "text": [
      "\n"
     ]
    },
    {
     "name": "stdout",
     "output_type": "stream",
     "text": [
      "[MoviePy] Writing audio in /tmp/temp_clip.wav\n"
     ]
    },
    {
     "name": "stderr",
     "output_type": "stream",
     "text": [
      "100%|██████████| 67/67 [00:00<00:00, 327.89it/s]"
     ]
    },
    {
     "name": "stdout",
     "output_type": "stream",
     "text": [
      "[MoviePy] Done.\n"
     ]
    },
    {
     "name": "stderr",
     "output_type": "stream",
     "text": [
      "\n"
     ]
    },
    {
     "name": "stdout",
     "output_type": "stream",
     "text": [
      "[MoviePy] Writing audio in /tmp/temp_clip.wav\n"
     ]
    },
    {
     "name": "stderr",
     "output_type": "stream",
     "text": [
      "100%|██████████| 67/67 [00:00<00:00, 259.70it/s]"
     ]
    },
    {
     "name": "stdout",
     "output_type": "stream",
     "text": [
      "[MoviePy] Done.\n"
     ]
    },
    {
     "name": "stderr",
     "output_type": "stream",
     "text": [
      "\n"
     ]
    },
    {
     "name": "stdout",
     "output_type": "stream",
     "text": [
      "[MoviePy] Writing audio in /tmp/temp_clip.wav\n"
     ]
    },
    {
     "name": "stderr",
     "output_type": "stream",
     "text": [
      "100%|██████████| 67/67 [00:00<00:00, 357.89it/s]\n"
     ]
    },
    {
     "name": "stdout",
     "output_type": "stream",
     "text": [
      "[MoviePy] Done.\n",
      "[MoviePy] Writing audio in /tmp/temp_clip.wav\n"
     ]
    },
    {
     "name": "stderr",
     "output_type": "stream",
     "text": [
      "100%|██████████| 67/67 [00:00<00:00, 348.23it/s]\n"
     ]
    },
    {
     "name": "stdout",
     "output_type": "stream",
     "text": [
      "[MoviePy] Done.\n",
      "[MoviePy] Writing audio in /tmp/temp_clip.wav\n"
     ]
    },
    {
     "name": "stderr",
     "output_type": "stream",
     "text": [
      "100%|██████████| 67/67 [00:00<00:00, 377.63it/s]\n"
     ]
    },
    {
     "name": "stdout",
     "output_type": "stream",
     "text": [
      "[MoviePy] Done.\n",
      "[MoviePy] Writing audio in /tmp/temp_clip.wav\n"
     ]
    },
    {
     "name": "stderr",
     "output_type": "stream",
     "text": [
      "100%|██████████| 67/67 [00:00<00:00, 377.14it/s]\n"
     ]
    },
    {
     "name": "stdout",
     "output_type": "stream",
     "text": [
      "[MoviePy] Done.\n",
      "[MoviePy] Writing audio in /tmp/temp_clip.wav\n"
     ]
    },
    {
     "name": "stderr",
     "output_type": "stream",
     "text": [
      "100%|██████████| 67/67 [00:00<00:00, 401.61it/s]"
     ]
    },
    {
     "name": "stdout",
     "output_type": "stream",
     "text": [
      "[MoviePy] Done.\n"
     ]
    },
    {
     "name": "stderr",
     "output_type": "stream",
     "text": [
      "\n"
     ]
    },
    {
     "name": "stdout",
     "output_type": "stream",
     "text": [
      "[MoviePy] Writing audio in /tmp/temp_clip.wav\n"
     ]
    },
    {
     "name": "stderr",
     "output_type": "stream",
     "text": [
      "100%|██████████| 67/67 [00:00<00:00, 296.89it/s]"
     ]
    },
    {
     "name": "stdout",
     "output_type": "stream",
     "text": [
      "[MoviePy] Done.\n"
     ]
    },
    {
     "name": "stderr",
     "output_type": "stream",
     "text": [
      "\n"
     ]
    },
    {
     "name": "stdout",
     "output_type": "stream",
     "text": [
      "[MoviePy] Writing audio in /tmp/temp_clip.wav\n"
     ]
    },
    {
     "name": "stderr",
     "output_type": "stream",
     "text": [
      "100%|██████████| 67/67 [00:00<00:00, 359.97it/s]"
     ]
    },
    {
     "name": "stdout",
     "output_type": "stream",
     "text": [
      "[MoviePy] Done.\n"
     ]
    },
    {
     "name": "stderr",
     "output_type": "stream",
     "text": [
      "\n"
     ]
    },
    {
     "name": "stdout",
     "output_type": "stream",
     "text": [
      "[MoviePy] Writing audio in /tmp/temp_clip.wav\n"
     ]
    },
    {
     "name": "stderr",
     "output_type": "stream",
     "text": [
      "100%|██████████| 67/67 [00:00<00:00, 266.64it/s]"
     ]
    },
    {
     "name": "stdout",
     "output_type": "stream",
     "text": [
      "[MoviePy] Done.\n"
     ]
    },
    {
     "name": "stderr",
     "output_type": "stream",
     "text": [
      "\n"
     ]
    },
    {
     "name": "stdout",
     "output_type": "stream",
     "text": [
      "[MoviePy] Writing audio in /tmp/temp_clip.wav\n"
     ]
    },
    {
     "name": "stderr",
     "output_type": "stream",
     "text": [
      "100%|██████████| 67/67 [00:00<00:00, 341.96it/s]"
     ]
    },
    {
     "name": "stdout",
     "output_type": "stream",
     "text": [
      "[MoviePy] Done.\n"
     ]
    },
    {
     "name": "stderr",
     "output_type": "stream",
     "text": [
      "\n"
     ]
    },
    {
     "name": "stdout",
     "output_type": "stream",
     "text": [
      "[MoviePy] Writing audio in /tmp/temp_clip.wav\n"
     ]
    },
    {
     "name": "stderr",
     "output_type": "stream",
     "text": [
      "100%|██████████| 67/67 [00:00<00:00, 323.48it/s]"
     ]
    },
    {
     "name": "stdout",
     "output_type": "stream",
     "text": [
      "[MoviePy] Done.\n"
     ]
    },
    {
     "name": "stderr",
     "output_type": "stream",
     "text": [
      "\n"
     ]
    },
    {
     "name": "stdout",
     "output_type": "stream",
     "text": [
      "[MoviePy] Writing audio in /tmp/temp_clip.wav\n"
     ]
    },
    {
     "name": "stderr",
     "output_type": "stream",
     "text": [
      "100%|██████████| 67/67 [00:00<00:00, 311.48it/s]"
     ]
    },
    {
     "name": "stdout",
     "output_type": "stream",
     "text": [
      "[MoviePy] Done.\n"
     ]
    },
    {
     "name": "stderr",
     "output_type": "stream",
     "text": [
      "\n"
     ]
    },
    {
     "name": "stdout",
     "output_type": "stream",
     "text": [
      "[MoviePy] Writing audio in /tmp/temp_clip.wav\n"
     ]
    },
    {
     "name": "stderr",
     "output_type": "stream",
     "text": [
      "100%|██████████| 67/67 [00:00<00:00, 421.70it/s]"
     ]
    },
    {
     "name": "stdout",
     "output_type": "stream",
     "text": [
      "[MoviePy] Done.\n"
     ]
    },
    {
     "name": "stderr",
     "output_type": "stream",
     "text": [
      "\n"
     ]
    },
    {
     "name": "stdout",
     "output_type": "stream",
     "text": [
      "[MoviePy] Writing audio in /tmp/temp_clip.wav\n"
     ]
    },
    {
     "name": "stderr",
     "output_type": "stream",
     "text": [
      "100%|██████████| 67/67 [00:00<00:00, 307.37it/s]"
     ]
    },
    {
     "name": "stdout",
     "output_type": "stream",
     "text": [
      "[MoviePy] Done.\n"
     ]
    },
    {
     "name": "stderr",
     "output_type": "stream",
     "text": [
      "\n"
     ]
    },
    {
     "name": "stdout",
     "output_type": "stream",
     "text": [
      "[MoviePy] Writing audio in /tmp/temp_clip.wav\n"
     ]
    },
    {
     "name": "stderr",
     "output_type": "stream",
     "text": [
      "100%|██████████| 67/67 [00:00<00:00, 390.30it/s]\n"
     ]
    },
    {
     "name": "stdout",
     "output_type": "stream",
     "text": [
      "[MoviePy] Done.\n",
      "[MoviePy] Writing audio in /tmp/temp_clip.wav\n"
     ]
    },
    {
     "name": "stderr",
     "output_type": "stream",
     "text": [
      "100%|██████████| 67/67 [00:00<00:00, 334.11it/s]"
     ]
    },
    {
     "name": "stdout",
     "output_type": "stream",
     "text": [
      "[MoviePy] Done.\n"
     ]
    },
    {
     "name": "stderr",
     "output_type": "stream",
     "text": [
      "\n"
     ]
    },
    {
     "name": "stdout",
     "output_type": "stream",
     "text": [
      "[MoviePy] Writing audio in /tmp/temp_clip.wav\n"
     ]
    },
    {
     "name": "stderr",
     "output_type": "stream",
     "text": [
      "100%|██████████| 67/67 [00:00<00:00, 385.76it/s]"
     ]
    },
    {
     "name": "stdout",
     "output_type": "stream",
     "text": [
      "[MoviePy] Done.\n"
     ]
    },
    {
     "name": "stderr",
     "output_type": "stream",
     "text": [
      "\n"
     ]
    },
    {
     "name": "stdout",
     "output_type": "stream",
     "text": [
      "[MoviePy] Writing audio in /tmp/temp_clip.wav\n"
     ]
    },
    {
     "name": "stderr",
     "output_type": "stream",
     "text": [
      "100%|██████████| 67/67 [00:00<00:00, 339.21it/s]"
     ]
    },
    {
     "name": "stdout",
     "output_type": "stream",
     "text": [
      "[MoviePy] Done.\n"
     ]
    },
    {
     "name": "stderr",
     "output_type": "stream",
     "text": [
      "\n"
     ]
    },
    {
     "name": "stdout",
     "output_type": "stream",
     "text": [
      "[MoviePy] Writing audio in /tmp/temp_clip.wav\n"
     ]
    },
    {
     "name": "stderr",
     "output_type": "stream",
     "text": [
      "100%|██████████| 67/67 [00:00<00:00, 379.65it/s]\n"
     ]
    },
    {
     "name": "stdout",
     "output_type": "stream",
     "text": [
      "[MoviePy] Done.\n",
      "[MoviePy] Writing audio in /tmp/temp_clip.wav\n"
     ]
    },
    {
     "name": "stderr",
     "output_type": "stream",
     "text": [
      "100%|██████████| 67/67 [00:00<00:00, 428.45it/s]"
     ]
    },
    {
     "name": "stdout",
     "output_type": "stream",
     "text": [
      "[MoviePy] Done.\n"
     ]
    },
    {
     "name": "stderr",
     "output_type": "stream",
     "text": [
      "\n"
     ]
    },
    {
     "name": "stdout",
     "output_type": "stream",
     "text": [
      "[MoviePy] Writing audio in /tmp/temp_clip.wav\n"
     ]
    },
    {
     "name": "stderr",
     "output_type": "stream",
     "text": [
      "100%|██████████| 67/67 [00:00<00:00, 288.98it/s]"
     ]
    },
    {
     "name": "stdout",
     "output_type": "stream",
     "text": [
      "[MoviePy] Done.\n"
     ]
    },
    {
     "name": "stderr",
     "output_type": "stream",
     "text": [
      "\n"
     ]
    },
    {
     "name": "stdout",
     "output_type": "stream",
     "text": [
      "[MoviePy] Writing audio in /tmp/temp_clip.wav\n"
     ]
    },
    {
     "name": "stderr",
     "output_type": "stream",
     "text": [
      "100%|██████████| 67/67 [00:00<00:00, 277.79it/s]"
     ]
    },
    {
     "name": "stdout",
     "output_type": "stream",
     "text": [
      "[MoviePy] Done.\n"
     ]
    },
    {
     "name": "stderr",
     "output_type": "stream",
     "text": [
      "\n"
     ]
    },
    {
     "name": "stdout",
     "output_type": "stream",
     "text": [
      "[MoviePy] Writing audio in /tmp/temp_clip.wav\n"
     ]
    },
    {
     "name": "stderr",
     "output_type": "stream",
     "text": [
      "100%|██████████| 67/67 [00:00<00:00, 190.36it/s]"
     ]
    },
    {
     "name": "stdout",
     "output_type": "stream",
     "text": [
      "[MoviePy] Done.\n"
     ]
    },
    {
     "name": "stderr",
     "output_type": "stream",
     "text": [
      "\n"
     ]
    },
    {
     "name": "stdout",
     "output_type": "stream",
     "text": [
      "[MoviePy] Writing audio in /tmp/temp_clip.wav\n"
     ]
    },
    {
     "name": "stderr",
     "output_type": "stream",
     "text": [
      "100%|██████████| 67/67 [00:00<00:00, 288.04it/s]"
     ]
    },
    {
     "name": "stdout",
     "output_type": "stream",
     "text": [
      "[MoviePy] Done.\n"
     ]
    },
    {
     "name": "stderr",
     "output_type": "stream",
     "text": [
      "\n"
     ]
    },
    {
     "name": "stdout",
     "output_type": "stream",
     "text": [
      "[MoviePy] Writing audio in /tmp/temp_clip.wav\n"
     ]
    },
    {
     "name": "stderr",
     "output_type": "stream",
     "text": [
      "100%|██████████| 67/67 [00:00<00:00, 312.00it/s]"
     ]
    },
    {
     "name": "stdout",
     "output_type": "stream",
     "text": [
      "[MoviePy] Done.\n"
     ]
    },
    {
     "name": "stderr",
     "output_type": "stream",
     "text": [
      "\n"
     ]
    },
    {
     "name": "stdout",
     "output_type": "stream",
     "text": [
      "[MoviePy] Writing audio in /tmp/temp_clip.wav\n"
     ]
    },
    {
     "name": "stderr",
     "output_type": "stream",
     "text": [
      "100%|██████████| 67/67 [00:00<00:00, 367.26it/s]\n"
     ]
    },
    {
     "name": "stdout",
     "output_type": "stream",
     "text": [
      "[MoviePy] Done.\n",
      "[MoviePy] Writing audio in /tmp/temp_clip.wav\n"
     ]
    },
    {
     "name": "stderr",
     "output_type": "stream",
     "text": [
      "100%|██████████| 67/67 [00:00<00:00, 355.79it/s]"
     ]
    },
    {
     "name": "stdout",
     "output_type": "stream",
     "text": [
      "[MoviePy] Done.\n"
     ]
    },
    {
     "name": "stderr",
     "output_type": "stream",
     "text": [
      "\n"
     ]
    },
    {
     "name": "stdout",
     "output_type": "stream",
     "text": [
      "[MoviePy] Writing audio in /tmp/temp_clip.wav\n"
     ]
    },
    {
     "name": "stderr",
     "output_type": "stream",
     "text": [
      "100%|██████████| 67/67 [00:00<00:00, 309.45it/s]"
     ]
    },
    {
     "name": "stdout",
     "output_type": "stream",
     "text": [
      "[MoviePy] Done.\n"
     ]
    },
    {
     "name": "stderr",
     "output_type": "stream",
     "text": [
      "\n"
     ]
    },
    {
     "name": "stdout",
     "output_type": "stream",
     "text": [
      "[MoviePy] Writing audio in /tmp/temp_clip.wav\n"
     ]
    },
    {
     "name": "stderr",
     "output_type": "stream",
     "text": [
      "100%|██████████| 67/67 [00:00<00:00, 410.43it/s]\n"
     ]
    },
    {
     "name": "stdout",
     "output_type": "stream",
     "text": [
      "[MoviePy] Done.\n",
      "[MoviePy] Writing audio in /tmp/temp_clip.wav\n"
     ]
    },
    {
     "name": "stderr",
     "output_type": "stream",
     "text": [
      "100%|██████████| 67/67 [00:00<00:00, 310.87it/s]"
     ]
    },
    {
     "name": "stdout",
     "output_type": "stream",
     "text": [
      "[MoviePy] Done.\n"
     ]
    },
    {
     "name": "stderr",
     "output_type": "stream",
     "text": [
      "\n"
     ]
    },
    {
     "name": "stdout",
     "output_type": "stream",
     "text": [
      "[MoviePy] Writing audio in /tmp/temp_clip.wav\n"
     ]
    },
    {
     "name": "stderr",
     "output_type": "stream",
     "text": [
      "100%|██████████| 67/67 [00:00<00:00, 341.97it/s]"
     ]
    },
    {
     "name": "stdout",
     "output_type": "stream",
     "text": [
      "[MoviePy] Done.\n"
     ]
    },
    {
     "name": "stderr",
     "output_type": "stream",
     "text": [
      "\n"
     ]
    },
    {
     "name": "stdout",
     "output_type": "stream",
     "text": [
      "[MoviePy] Writing audio in /tmp/temp_clip.wav\n"
     ]
    },
    {
     "name": "stderr",
     "output_type": "stream",
     "text": [
      "100%|██████████| 67/67 [00:00<00:00, 192.22it/s]"
     ]
    },
    {
     "name": "stdout",
     "output_type": "stream",
     "text": [
      "[MoviePy] Done.\n"
     ]
    },
    {
     "name": "stderr",
     "output_type": "stream",
     "text": [
      "\n"
     ]
    },
    {
     "name": "stdout",
     "output_type": "stream",
     "text": [
      "[MoviePy] Writing audio in /tmp/temp_clip.wav\n"
     ]
    },
    {
     "name": "stderr",
     "output_type": "stream",
     "text": [
      "100%|██████████| 67/67 [00:00<00:00, 322.83it/s]"
     ]
    },
    {
     "name": "stdout",
     "output_type": "stream",
     "text": [
      "[MoviePy] Done.\n"
     ]
    },
    {
     "name": "stderr",
     "output_type": "stream",
     "text": [
      "\n"
     ]
    },
    {
     "name": "stdout",
     "output_type": "stream",
     "text": [
      "[MoviePy] Writing audio in /tmp/temp_clip.wav\n"
     ]
    },
    {
     "name": "stderr",
     "output_type": "stream",
     "text": [
      "100%|██████████| 67/67 [00:00<00:00, 301.89it/s]"
     ]
    },
    {
     "name": "stdout",
     "output_type": "stream",
     "text": [
      "[MoviePy] Done.\n"
     ]
    },
    {
     "name": "stderr",
     "output_type": "stream",
     "text": [
      "\n"
     ]
    },
    {
     "name": "stdout",
     "output_type": "stream",
     "text": [
      "[MoviePy] Writing audio in /tmp/temp_clip.wav\n"
     ]
    },
    {
     "name": "stderr",
     "output_type": "stream",
     "text": [
      "100%|██████████| 67/67 [00:00<00:00, 139.54it/s]\n"
     ]
    },
    {
     "name": "stdout",
     "output_type": "stream",
     "text": [
      "[MoviePy] Done.\n",
      "[MoviePy] Writing audio in /tmp/temp_clip.wav\n"
     ]
    },
    {
     "name": "stderr",
     "output_type": "stream",
     "text": [
      "100%|██████████| 67/67 [00:00<00:00, 186.75it/s]"
     ]
    },
    {
     "name": "stdout",
     "output_type": "stream",
     "text": [
      "[MoviePy] Done.\n"
     ]
    },
    {
     "name": "stderr",
     "output_type": "stream",
     "text": [
      "\n"
     ]
    },
    {
     "name": "stdout",
     "output_type": "stream",
     "text": [
      "[MoviePy] Writing audio in /tmp/temp_clip.wav\n"
     ]
    },
    {
     "name": "stderr",
     "output_type": "stream",
     "text": [
      "100%|██████████| 67/67 [00:00<00:00, 209.99it/s]"
     ]
    },
    {
     "name": "stdout",
     "output_type": "stream",
     "text": [
      "[MoviePy] Done.\n"
     ]
    },
    {
     "name": "stderr",
     "output_type": "stream",
     "text": [
      "\n"
     ]
    },
    {
     "name": "stdout",
     "output_type": "stream",
     "text": [
      "[MoviePy] Writing audio in /tmp/temp_clip.wav\n"
     ]
    },
    {
     "name": "stderr",
     "output_type": "stream",
     "text": [
      "100%|██████████| 67/67 [00:00<00:00, 190.24it/s]"
     ]
    },
    {
     "name": "stdout",
     "output_type": "stream",
     "text": [
      "[MoviePy] Done.\n"
     ]
    },
    {
     "name": "stderr",
     "output_type": "stream",
     "text": [
      "\n"
     ]
    },
    {
     "name": "stdout",
     "output_type": "stream",
     "text": [
      "[MoviePy] Writing audio in /tmp/temp_clip.wav\n"
     ]
    },
    {
     "name": "stderr",
     "output_type": "stream",
     "text": [
      "100%|██████████| 67/67 [00:00<00:00, 167.12it/s]"
     ]
    },
    {
     "name": "stdout",
     "output_type": "stream",
     "text": [
      "[MoviePy] Done.\n"
     ]
    },
    {
     "name": "stderr",
     "output_type": "stream",
     "text": [
      "\n"
     ]
    },
    {
     "name": "stdout",
     "output_type": "stream",
     "text": [
      "[MoviePy] Writing audio in /tmp/temp_clip.wav\n"
     ]
    },
    {
     "name": "stderr",
     "output_type": "stream",
     "text": [
      "100%|██████████| 67/67 [00:00<00:00, 225.30it/s]"
     ]
    },
    {
     "name": "stdout",
     "output_type": "stream",
     "text": [
      "[MoviePy] Done.\n"
     ]
    },
    {
     "name": "stderr",
     "output_type": "stream",
     "text": [
      "\n"
     ]
    },
    {
     "name": "stdout",
     "output_type": "stream",
     "text": [
      "[MoviePy] Writing audio in /tmp/temp_clip.wav\n"
     ]
    },
    {
     "name": "stderr",
     "output_type": "stream",
     "text": [
      "100%|██████████| 67/67 [00:00<00:00, 129.88it/s]"
     ]
    },
    {
     "name": "stdout",
     "output_type": "stream",
     "text": [
      "[MoviePy] Done.\n"
     ]
    },
    {
     "name": "stderr",
     "output_type": "stream",
     "text": [
      "\n"
     ]
    },
    {
     "name": "stdout",
     "output_type": "stream",
     "text": [
      "[MoviePy] Writing audio in /tmp/temp_clip.wav\n"
     ]
    },
    {
     "name": "stderr",
     "output_type": "stream",
     "text": [
      "100%|██████████| 67/67 [00:00<00:00, 178.54it/s]"
     ]
    },
    {
     "name": "stdout",
     "output_type": "stream",
     "text": [
      "[MoviePy] Done.\n"
     ]
    },
    {
     "name": "stderr",
     "output_type": "stream",
     "text": [
      "\n"
     ]
    },
    {
     "name": "stdout",
     "output_type": "stream",
     "text": [
      "[MoviePy] Writing audio in /tmp/temp_clip.wav\n"
     ]
    },
    {
     "name": "stderr",
     "output_type": "stream",
     "text": [
      "100%|██████████| 67/67 [00:00<00:00, 114.83it/s]"
     ]
    },
    {
     "name": "stdout",
     "output_type": "stream",
     "text": [
      "[MoviePy] Done.\n"
     ]
    },
    {
     "name": "stderr",
     "output_type": "stream",
     "text": [
      "\n"
     ]
    },
    {
     "name": "stdout",
     "output_type": "stream",
     "text": [
      "[MoviePy] Writing audio in /tmp/temp_clip.wav\n"
     ]
    },
    {
     "name": "stderr",
     "output_type": "stream",
     "text": [
      "100%|██████████| 67/67 [00:00<00:00, 188.10it/s]"
     ]
    },
    {
     "name": "stdout",
     "output_type": "stream",
     "text": [
      "[MoviePy] Done.\n"
     ]
    },
    {
     "name": "stderr",
     "output_type": "stream",
     "text": [
      "\n"
     ]
    },
    {
     "name": "stdout",
     "output_type": "stream",
     "text": [
      "[MoviePy] Writing audio in /tmp/temp_clip.wav\n"
     ]
    },
    {
     "name": "stderr",
     "output_type": "stream",
     "text": [
      "100%|██████████| 67/67 [00:00<00:00, 176.70it/s]"
     ]
    },
    {
     "name": "stdout",
     "output_type": "stream",
     "text": [
      "[MoviePy] Done.\n"
     ]
    },
    {
     "name": "stderr",
     "output_type": "stream",
     "text": [
      "\n"
     ]
    },
    {
     "name": "stdout",
     "output_type": "stream",
     "text": [
      "[MoviePy] Writing audio in /tmp/temp_clip.wav\n"
     ]
    },
    {
     "name": "stderr",
     "output_type": "stream",
     "text": [
      "100%|██████████| 67/67 [00:00<00:00, 187.25it/s]"
     ]
    },
    {
     "name": "stdout",
     "output_type": "stream",
     "text": [
      "[MoviePy] Done.\n"
     ]
    },
    {
     "name": "stderr",
     "output_type": "stream",
     "text": [
      "\n"
     ]
    },
    {
     "name": "stdout",
     "output_type": "stream",
     "text": [
      "[MoviePy] Writing audio in /tmp/temp_clip.wav\n"
     ]
    },
    {
     "name": "stderr",
     "output_type": "stream",
     "text": [
      "100%|██████████| 67/67 [00:00<00:00, 156.21it/s]\n"
     ]
    },
    {
     "name": "stdout",
     "output_type": "stream",
     "text": [
      "[MoviePy] Done.\n",
      "[MoviePy] Writing audio in /tmp/temp_clip.wav\n"
     ]
    },
    {
     "name": "stderr",
     "output_type": "stream",
     "text": [
      "100%|██████████| 67/67 [00:00<00:00, 178.78it/s]"
     ]
    },
    {
     "name": "stdout",
     "output_type": "stream",
     "text": [
      "[MoviePy] Done.\n"
     ]
    },
    {
     "name": "stderr",
     "output_type": "stream",
     "text": [
      "\n"
     ]
    },
    {
     "name": "stdout",
     "output_type": "stream",
     "text": [
      "[MoviePy] Writing audio in /tmp/temp_clip.wav\n"
     ]
    },
    {
     "name": "stderr",
     "output_type": "stream",
     "text": [
      "100%|██████████| 67/67 [00:00<00:00, 151.01it/s]\n"
     ]
    },
    {
     "name": "stdout",
     "output_type": "stream",
     "text": [
      "[MoviePy] Done.\n",
      "[MoviePy] Writing audio in /tmp/temp_clip.wav\n"
     ]
    },
    {
     "name": "stderr",
     "output_type": "stream",
     "text": [
      "100%|██████████| 67/67 [00:00<00:00, 141.35it/s]\n"
     ]
    },
    {
     "name": "stdout",
     "output_type": "stream",
     "text": [
      "[MoviePy] Done.\n",
      "[MoviePy] Writing audio in /tmp/temp_clip.wav\n"
     ]
    },
    {
     "name": "stderr",
     "output_type": "stream",
     "text": [
      "100%|██████████| 67/67 [00:00<00:00, 237.60it/s]"
     ]
    },
    {
     "name": "stdout",
     "output_type": "stream",
     "text": [
      "[MoviePy] Done.\n"
     ]
    },
    {
     "name": "stderr",
     "output_type": "stream",
     "text": [
      "\n"
     ]
    },
    {
     "name": "stdout",
     "output_type": "stream",
     "text": [
      "[MoviePy] Writing audio in /tmp/temp_clip.wav\n"
     ]
    },
    {
     "name": "stderr",
     "output_type": "stream",
     "text": [
      "100%|██████████| 67/67 [00:00<00:00, 178.58it/s]"
     ]
    },
    {
     "name": "stdout",
     "output_type": "stream",
     "text": [
      "[MoviePy] Done.\n"
     ]
    },
    {
     "name": "stderr",
     "output_type": "stream",
     "text": [
      "\n"
     ]
    },
    {
     "name": "stdout",
     "output_type": "stream",
     "text": [
      "[MoviePy] Writing audio in /tmp/temp_clip.wav\n"
     ]
    },
    {
     "name": "stderr",
     "output_type": "stream",
     "text": [
      "100%|██████████| 67/67 [00:00<00:00, 189.21it/s]"
     ]
    },
    {
     "name": "stdout",
     "output_type": "stream",
     "text": [
      "[MoviePy] Done.\n"
     ]
    },
    {
     "name": "stderr",
     "output_type": "stream",
     "text": [
      "\n"
     ]
    },
    {
     "name": "stdout",
     "output_type": "stream",
     "text": [
      "[MoviePy] Writing audio in /tmp/temp_clip.wav\n"
     ]
    },
    {
     "name": "stderr",
     "output_type": "stream",
     "text": [
      "100%|██████████| 67/67 [00:00<00:00, 163.81it/s]"
     ]
    },
    {
     "name": "stdout",
     "output_type": "stream",
     "text": [
      "[MoviePy] Done.\n"
     ]
    },
    {
     "name": "stderr",
     "output_type": "stream",
     "text": [
      "\n"
     ]
    },
    {
     "name": "stdout",
     "output_type": "stream",
     "text": [
      "[MoviePy] Writing audio in /tmp/temp_clip.wav\n"
     ]
    },
    {
     "name": "stderr",
     "output_type": "stream",
     "text": [
      "100%|██████████| 67/67 [00:00<00:00, 182.62it/s]"
     ]
    },
    {
     "name": "stdout",
     "output_type": "stream",
     "text": [
      "[MoviePy] Done.\n"
     ]
    },
    {
     "name": "stderr",
     "output_type": "stream",
     "text": [
      "\n"
     ]
    },
    {
     "name": "stdout",
     "output_type": "stream",
     "text": [
      "[MoviePy] Writing audio in /tmp/temp_clip.wav\n"
     ]
    },
    {
     "name": "stderr",
     "output_type": "stream",
     "text": [
      "100%|██████████| 67/67 [00:00<00:00, 218.94it/s]"
     ]
    },
    {
     "name": "stdout",
     "output_type": "stream",
     "text": [
      "[MoviePy] Done.\n"
     ]
    },
    {
     "name": "stderr",
     "output_type": "stream",
     "text": [
      "\n"
     ]
    },
    {
     "name": "stdout",
     "output_type": "stream",
     "text": [
      "[MoviePy] Writing audio in /tmp/temp_clip.wav\n"
     ]
    },
    {
     "name": "stderr",
     "output_type": "stream",
     "text": [
      "100%|██████████| 67/67 [00:00<00:00, 207.02it/s]"
     ]
    },
    {
     "name": "stdout",
     "output_type": "stream",
     "text": [
      "[MoviePy] Done.\n"
     ]
    },
    {
     "name": "stderr",
     "output_type": "stream",
     "text": [
      "\n"
     ]
    },
    {
     "name": "stdout",
     "output_type": "stream",
     "text": [
      "[MoviePy] Writing audio in /tmp/temp_clip.wav\n"
     ]
    },
    {
     "name": "stderr",
     "output_type": "stream",
     "text": [
      "100%|██████████| 67/67 [00:00<00:00, 181.63it/s]"
     ]
    },
    {
     "name": "stdout",
     "output_type": "stream",
     "text": [
      "[MoviePy] Done.\n"
     ]
    },
    {
     "name": "stderr",
     "output_type": "stream",
     "text": [
      "\n"
     ]
    },
    {
     "name": "stdout",
     "output_type": "stream",
     "text": [
      "[MoviePy] Writing audio in /tmp/temp_clip.wav\n"
     ]
    },
    {
     "name": "stderr",
     "output_type": "stream",
     "text": [
      "100%|██████████| 67/67 [00:00<00:00, 217.14it/s]"
     ]
    },
    {
     "name": "stdout",
     "output_type": "stream",
     "text": [
      "[MoviePy] Done.\n"
     ]
    },
    {
     "name": "stderr",
     "output_type": "stream",
     "text": [
      "\n"
     ]
    },
    {
     "name": "stdout",
     "output_type": "stream",
     "text": [
      "[MoviePy] Writing audio in /tmp/temp_clip.wav\n"
     ]
    },
    {
     "name": "stderr",
     "output_type": "stream",
     "text": [
      "100%|██████████| 67/67 [00:00<00:00, 242.02it/s]"
     ]
    },
    {
     "name": "stdout",
     "output_type": "stream",
     "text": [
      "[MoviePy] Done.\n"
     ]
    },
    {
     "name": "stderr",
     "output_type": "stream",
     "text": [
      "\n"
     ]
    },
    {
     "name": "stdout",
     "output_type": "stream",
     "text": [
      "[MoviePy] Writing audio in /tmp/temp_clip.wav\n"
     ]
    },
    {
     "name": "stderr",
     "output_type": "stream",
     "text": [
      "100%|██████████| 67/67 [00:00<00:00, 263.91it/s]"
     ]
    },
    {
     "name": "stdout",
     "output_type": "stream",
     "text": [
      "[MoviePy] Done.\n"
     ]
    },
    {
     "name": "stderr",
     "output_type": "stream",
     "text": [
      "\n"
     ]
    },
    {
     "name": "stdout",
     "output_type": "stream",
     "text": [
      "[MoviePy] Writing audio in /tmp/temp_clip.wav\n"
     ]
    },
    {
     "name": "stderr",
     "output_type": "stream",
     "text": [
      "100%|██████████| 67/67 [00:00<00:00, 243.24it/s]"
     ]
    },
    {
     "name": "stdout",
     "output_type": "stream",
     "text": [
      "[MoviePy] Done.\n"
     ]
    },
    {
     "name": "stderr",
     "output_type": "stream",
     "text": [
      "\n"
     ]
    },
    {
     "name": "stdout",
     "output_type": "stream",
     "text": [
      "[MoviePy] Writing audio in /tmp/temp_clip.wav\n"
     ]
    },
    {
     "name": "stderr",
     "output_type": "stream",
     "text": [
      "100%|██████████| 67/67 [00:00<00:00, 325.38it/s]"
     ]
    },
    {
     "name": "stdout",
     "output_type": "stream",
     "text": [
      "[MoviePy] Done.\n"
     ]
    },
    {
     "name": "stderr",
     "output_type": "stream",
     "text": [
      "\n"
     ]
    },
    {
     "name": "stdout",
     "output_type": "stream",
     "text": [
      "[MoviePy] Writing audio in /tmp/temp_clip.wav\n"
     ]
    },
    {
     "name": "stderr",
     "output_type": "stream",
     "text": [
      "100%|██████████| 67/67 [00:00<00:00, 282.42it/s]"
     ]
    },
    {
     "name": "stdout",
     "output_type": "stream",
     "text": [
      "[MoviePy] Done.\n"
     ]
    },
    {
     "name": "stderr",
     "output_type": "stream",
     "text": [
      "\n"
     ]
    },
    {
     "name": "stdout",
     "output_type": "stream",
     "text": [
      "[MoviePy] Writing audio in /tmp/temp_clip.wav\n"
     ]
    },
    {
     "name": "stderr",
     "output_type": "stream",
     "text": [
      "100%|██████████| 67/67 [00:00<00:00, 376.72it/s]\n"
     ]
    },
    {
     "name": "stdout",
     "output_type": "stream",
     "text": [
      "[MoviePy] Done.\n",
      "[MoviePy] Writing audio in /tmp/temp_clip.wav\n"
     ]
    },
    {
     "name": "stderr",
     "output_type": "stream",
     "text": [
      "100%|██████████| 67/67 [00:00<00:00, 271.81it/s]"
     ]
    },
    {
     "name": "stdout",
     "output_type": "stream",
     "text": [
      "[MoviePy] Done.\n"
     ]
    },
    {
     "name": "stderr",
     "output_type": "stream",
     "text": [
      "\n"
     ]
    },
    {
     "name": "stdout",
     "output_type": "stream",
     "text": [
      "[MoviePy] Writing audio in /tmp/temp_clip.wav\n"
     ]
    },
    {
     "name": "stderr",
     "output_type": "stream",
     "text": [
      "100%|██████████| 67/67 [00:00<00:00, 312.32it/s]"
     ]
    },
    {
     "name": "stdout",
     "output_type": "stream",
     "text": [
      "[MoviePy] Done.\n"
     ]
    },
    {
     "name": "stderr",
     "output_type": "stream",
     "text": [
      "\n"
     ]
    },
    {
     "name": "stdout",
     "output_type": "stream",
     "text": [
      "[MoviePy] Writing audio in /tmp/temp_clip.wav\n"
     ]
    },
    {
     "name": "stderr",
     "output_type": "stream",
     "text": [
      "100%|██████████| 67/67 [00:00<00:00, 333.86it/s]"
     ]
    },
    {
     "name": "stdout",
     "output_type": "stream",
     "text": [
      "[MoviePy] Done.\n"
     ]
    },
    {
     "name": "stderr",
     "output_type": "stream",
     "text": [
      "\n"
     ]
    },
    {
     "name": "stdout",
     "output_type": "stream",
     "text": [
      "[MoviePy] Writing audio in /tmp/temp_clip.wav\n"
     ]
    },
    {
     "name": "stderr",
     "output_type": "stream",
     "text": [
      "100%|██████████| 67/67 [00:00<00:00, 382.55it/s]\n"
     ]
    },
    {
     "name": "stdout",
     "output_type": "stream",
     "text": [
      "[MoviePy] Done.\n",
      "[MoviePy] Writing audio in /tmp/temp_clip.wav\n"
     ]
    },
    {
     "name": "stderr",
     "output_type": "stream",
     "text": [
      "100%|██████████| 67/67 [00:00<00:00, 302.18it/s]"
     ]
    },
    {
     "name": "stdout",
     "output_type": "stream",
     "text": [
      "[MoviePy] Done.\n"
     ]
    },
    {
     "name": "stderr",
     "output_type": "stream",
     "text": [
      "\n"
     ]
    },
    {
     "name": "stdout",
     "output_type": "stream",
     "text": [
      "[MoviePy] Writing audio in /tmp/temp_clip.wav\n"
     ]
    },
    {
     "name": "stderr",
     "output_type": "stream",
     "text": [
      "100%|██████████| 67/67 [00:00<00:00, 422.14it/s]\n"
     ]
    },
    {
     "name": "stdout",
     "output_type": "stream",
     "text": [
      "[MoviePy] Done.\n",
      "[MoviePy] Writing audio in /tmp/temp_clip.wav\n"
     ]
    },
    {
     "name": "stderr",
     "output_type": "stream",
     "text": [
      "100%|██████████| 67/67 [00:00<00:00, 401.89it/s]"
     ]
    },
    {
     "name": "stdout",
     "output_type": "stream",
     "text": [
      "[MoviePy] Done.\n"
     ]
    },
    {
     "name": "stderr",
     "output_type": "stream",
     "text": [
      "\n"
     ]
    },
    {
     "name": "stdout",
     "output_type": "stream",
     "text": [
      "[MoviePy] Writing audio in /tmp/temp_clip.wav\n"
     ]
    },
    {
     "name": "stderr",
     "output_type": "stream",
     "text": [
      "100%|██████████| 67/67 [00:00<00:00, 385.96it/s]"
     ]
    },
    {
     "name": "stdout",
     "output_type": "stream",
     "text": [
      "[MoviePy] Done.\n"
     ]
    },
    {
     "name": "stderr",
     "output_type": "stream",
     "text": [
      "\n"
     ]
    },
    {
     "name": "stdout",
     "output_type": "stream",
     "text": [
      "[MoviePy] Writing audio in /tmp/temp_clip.wav\n"
     ]
    },
    {
     "name": "stderr",
     "output_type": "stream",
     "text": [
      "100%|██████████| 67/67 [00:00<00:00, 452.49it/s]"
     ]
    },
    {
     "name": "stdout",
     "output_type": "stream",
     "text": [
      "[MoviePy] Done.\n"
     ]
    },
    {
     "name": "stderr",
     "output_type": "stream",
     "text": [
      "\n"
     ]
    },
    {
     "name": "stdout",
     "output_type": "stream",
     "text": [
      "[MoviePy] Writing audio in /tmp/temp_clip.wav\n"
     ]
    },
    {
     "name": "stderr",
     "output_type": "stream",
     "text": [
      "100%|██████████| 67/67 [00:00<00:00, 388.70it/s]"
     ]
    },
    {
     "name": "stdout",
     "output_type": "stream",
     "text": [
      "[MoviePy] Done.\n"
     ]
    },
    {
     "name": "stderr",
     "output_type": "stream",
     "text": [
      "\n"
     ]
    },
    {
     "name": "stdout",
     "output_type": "stream",
     "text": [
      "[MoviePy] Writing audio in /tmp/temp_clip.wav\n"
     ]
    },
    {
     "name": "stderr",
     "output_type": "stream",
     "text": [
      "100%|██████████| 67/67 [00:00<00:00, 443.34it/s]"
     ]
    },
    {
     "name": "stdout",
     "output_type": "stream",
     "text": [
      "[MoviePy] Done.\n"
     ]
    },
    {
     "name": "stderr",
     "output_type": "stream",
     "text": [
      "\n"
     ]
    },
    {
     "name": "stdout",
     "output_type": "stream",
     "text": [
      "[MoviePy] Writing audio in /tmp/temp_clip.wav\n"
     ]
    },
    {
     "name": "stderr",
     "output_type": "stream",
     "text": [
      "100%|██████████| 67/67 [00:00<00:00, 434.05it/s]"
     ]
    },
    {
     "name": "stdout",
     "output_type": "stream",
     "text": [
      "[MoviePy] Done.\n"
     ]
    },
    {
     "name": "stderr",
     "output_type": "stream",
     "text": [
      "\n"
     ]
    },
    {
     "name": "stdout",
     "output_type": "stream",
     "text": [
      "[MoviePy] Writing audio in /tmp/temp_clip.wav\n"
     ]
    },
    {
     "name": "stderr",
     "output_type": "stream",
     "text": [
      "100%|██████████| 67/67 [00:00<00:00, 459.32it/s]"
     ]
    },
    {
     "name": "stdout",
     "output_type": "stream",
     "text": [
      "[MoviePy] Done.\n"
     ]
    },
    {
     "name": "stderr",
     "output_type": "stream",
     "text": [
      "\n"
     ]
    },
    {
     "name": "stdout",
     "output_type": "stream",
     "text": [
      "[MoviePy] Writing audio in /tmp/temp_clip.wav\n"
     ]
    },
    {
     "name": "stderr",
     "output_type": "stream",
     "text": [
      "100%|██████████| 67/67 [00:00<00:00, 482.58it/s]"
     ]
    },
    {
     "name": "stdout",
     "output_type": "stream",
     "text": [
      "[MoviePy] Done.\n"
     ]
    },
    {
     "name": "stderr",
     "output_type": "stream",
     "text": [
      "\n"
     ]
    },
    {
     "name": "stdout",
     "output_type": "stream",
     "text": [
      "[MoviePy] Writing audio in /tmp/temp_clip.wav\n"
     ]
    },
    {
     "name": "stderr",
     "output_type": "stream",
     "text": [
      "100%|██████████| 67/67 [00:00<00:00, 348.99it/s]\n"
     ]
    },
    {
     "name": "stdout",
     "output_type": "stream",
     "text": [
      "[MoviePy] Done.\n",
      "[MoviePy] Writing audio in /tmp/temp_clip.wav\n"
     ]
    },
    {
     "name": "stderr",
     "output_type": "stream",
     "text": [
      "100%|██████████| 67/67 [00:00<00:00, 440.42it/s]"
     ]
    },
    {
     "name": "stdout",
     "output_type": "stream",
     "text": [
      "[MoviePy] Done.\n"
     ]
    },
    {
     "name": "stderr",
     "output_type": "stream",
     "text": [
      "\n"
     ]
    },
    {
     "name": "stdout",
     "output_type": "stream",
     "text": [
      "[MoviePy] Writing audio in /tmp/temp_clip.wav\n"
     ]
    },
    {
     "name": "stderr",
     "output_type": "stream",
     "text": [
      "100%|██████████| 67/67 [00:00<00:00, 435.90it/s]"
     ]
    },
    {
     "name": "stdout",
     "output_type": "stream",
     "text": [
      "[MoviePy] Done.\n"
     ]
    },
    {
     "name": "stderr",
     "output_type": "stream",
     "text": [
      "\n"
     ]
    },
    {
     "name": "stdout",
     "output_type": "stream",
     "text": [
      "[MoviePy] Writing audio in /tmp/temp_clip.wav\n"
     ]
    },
    {
     "name": "stderr",
     "output_type": "stream",
     "text": [
      "100%|██████████| 67/67 [00:00<00:00, 365.84it/s]\n"
     ]
    },
    {
     "name": "stdout",
     "output_type": "stream",
     "text": [
      "[MoviePy] Done.\n",
      "[MoviePy] Writing audio in /tmp/temp_clip.wav\n"
     ]
    },
    {
     "name": "stderr",
     "output_type": "stream",
     "text": [
      "100%|██████████| 67/67 [00:00<00:00, 432.81it/s]"
     ]
    },
    {
     "name": "stdout",
     "output_type": "stream",
     "text": [
      "[MoviePy] Done.\n"
     ]
    },
    {
     "name": "stderr",
     "output_type": "stream",
     "text": [
      "\n"
     ]
    },
    {
     "name": "stdout",
     "output_type": "stream",
     "text": [
      "[MoviePy] Writing audio in /tmp/temp_clip.wav\n"
     ]
    },
    {
     "name": "stderr",
     "output_type": "stream",
     "text": [
      "100%|██████████| 67/67 [00:00<00:00, 453.67it/s]"
     ]
    },
    {
     "name": "stdout",
     "output_type": "stream",
     "text": [
      "[MoviePy] Done.\n"
     ]
    },
    {
     "name": "stderr",
     "output_type": "stream",
     "text": [
      "\n"
     ]
    },
    {
     "name": "stdout",
     "output_type": "stream",
     "text": [
      "[MoviePy] Writing audio in /tmp/temp_clip.wav\n"
     ]
    },
    {
     "name": "stderr",
     "output_type": "stream",
     "text": [
      "100%|██████████| 67/67 [00:00<00:00, 313.87it/s]"
     ]
    },
    {
     "name": "stdout",
     "output_type": "stream",
     "text": [
      "[MoviePy] Done.\n"
     ]
    },
    {
     "name": "stderr",
     "output_type": "stream",
     "text": [
      "\n"
     ]
    },
    {
     "name": "stdout",
     "output_type": "stream",
     "text": [
      "[MoviePy] Writing audio in /tmp/temp_clip.wav\n"
     ]
    },
    {
     "name": "stderr",
     "output_type": "stream",
     "text": [
      "100%|██████████| 67/67 [00:00<00:00, 367.07it/s]\n"
     ]
    },
    {
     "name": "stdout",
     "output_type": "stream",
     "text": [
      "[MoviePy] Done.\n",
      "[MoviePy] Writing audio in /tmp/temp_clip.wav\n"
     ]
    },
    {
     "name": "stderr",
     "output_type": "stream",
     "text": [
      "100%|██████████| 67/67 [00:00<00:00, 412.77it/s]"
     ]
    },
    {
     "name": "stdout",
     "output_type": "stream",
     "text": [
      "[MoviePy] Done.\n"
     ]
    },
    {
     "name": "stderr",
     "output_type": "stream",
     "text": [
      "\n"
     ]
    },
    {
     "name": "stdout",
     "output_type": "stream",
     "text": [
      "[MoviePy] Writing audio in /tmp/temp_clip.wav\n"
     ]
    },
    {
     "name": "stderr",
     "output_type": "stream",
     "text": [
      "100%|██████████| 67/67 [00:00<00:00, 306.24it/s]"
     ]
    },
    {
     "name": "stdout",
     "output_type": "stream",
     "text": [
      "[MoviePy] Done.\n"
     ]
    },
    {
     "name": "stderr",
     "output_type": "stream",
     "text": [
      "\n"
     ]
    },
    {
     "name": "stdout",
     "output_type": "stream",
     "text": [
      "[MoviePy] Writing audio in /tmp/temp_clip.wav\n"
     ]
    },
    {
     "name": "stderr",
     "output_type": "stream",
     "text": [
      "100%|██████████| 67/67 [00:00<00:00, 402.74it/s]"
     ]
    },
    {
     "name": "stdout",
     "output_type": "stream",
     "text": [
      "[MoviePy] Done.\n"
     ]
    },
    {
     "name": "stderr",
     "output_type": "stream",
     "text": [
      "\n"
     ]
    },
    {
     "name": "stdout",
     "output_type": "stream",
     "text": [
      "[MoviePy] Writing audio in /tmp/temp_clip.wav\n"
     ]
    },
    {
     "name": "stderr",
     "output_type": "stream",
     "text": [
      "100%|██████████| 67/67 [00:00<00:00, 337.20it/s]"
     ]
    },
    {
     "name": "stdout",
     "output_type": "stream",
     "text": [
      "[MoviePy] Done.\n"
     ]
    },
    {
     "name": "stderr",
     "output_type": "stream",
     "text": [
      "\n"
     ]
    },
    {
     "name": "stdout",
     "output_type": "stream",
     "text": [
      "[MoviePy] Writing audio in /tmp/temp_clip.wav\n"
     ]
    },
    {
     "name": "stderr",
     "output_type": "stream",
     "text": [
      "100%|██████████| 67/67 [00:00<00:00, 394.83it/s]"
     ]
    },
    {
     "name": "stdout",
     "output_type": "stream",
     "text": [
      "[MoviePy] Done.\n"
     ]
    },
    {
     "name": "stderr",
     "output_type": "stream",
     "text": [
      "\n"
     ]
    },
    {
     "name": "stdout",
     "output_type": "stream",
     "text": [
      "[MoviePy] Writing audio in /tmp/temp_clip.wav\n"
     ]
    },
    {
     "name": "stderr",
     "output_type": "stream",
     "text": [
      "100%|██████████| 67/67 [00:00<00:00, 284.18it/s]"
     ]
    },
    {
     "name": "stdout",
     "output_type": "stream",
     "text": [
      "[MoviePy] Done.\n"
     ]
    },
    {
     "name": "stderr",
     "output_type": "stream",
     "text": [
      "\n"
     ]
    },
    {
     "name": "stdout",
     "output_type": "stream",
     "text": [
      "[MoviePy] Writing audio in /tmp/temp_clip.wav\n"
     ]
    },
    {
     "name": "stderr",
     "output_type": "stream",
     "text": [
      "100%|██████████| 67/67 [00:00<00:00, 389.64it/s]"
     ]
    },
    {
     "name": "stdout",
     "output_type": "stream",
     "text": [
      "[MoviePy] Done.\n"
     ]
    },
    {
     "name": "stderr",
     "output_type": "stream",
     "text": [
      "\n"
     ]
    },
    {
     "name": "stdout",
     "output_type": "stream",
     "text": [
      "[MoviePy] Writing audio in /tmp/temp_clip.wav\n"
     ]
    },
    {
     "name": "stderr",
     "output_type": "stream",
     "text": [
      "100%|██████████| 67/67 [00:00<00:00, 422.28it/s]"
     ]
    },
    {
     "name": "stdout",
     "output_type": "stream",
     "text": [
      "[MoviePy] Done.\n"
     ]
    },
    {
     "name": "stderr",
     "output_type": "stream",
     "text": [
      "\n"
     ]
    },
    {
     "name": "stdout",
     "output_type": "stream",
     "text": [
      "[MoviePy] Writing audio in /tmp/temp_clip.wav\n"
     ]
    },
    {
     "name": "stderr",
     "output_type": "stream",
     "text": [
      "100%|██████████| 67/67 [00:00<00:00, 337.02it/s]"
     ]
    },
    {
     "name": "stdout",
     "output_type": "stream",
     "text": [
      "[MoviePy] Done.\n"
     ]
    },
    {
     "name": "stderr",
     "output_type": "stream",
     "text": [
      "\n"
     ]
    },
    {
     "name": "stdout",
     "output_type": "stream",
     "text": [
      "[MoviePy] Writing audio in /tmp/temp_clip.wav\n"
     ]
    },
    {
     "name": "stderr",
     "output_type": "stream",
     "text": [
      "100%|██████████| 67/67 [00:00<00:00, 331.91it/s]"
     ]
    },
    {
     "name": "stdout",
     "output_type": "stream",
     "text": [
      "[MoviePy] Done.\n"
     ]
    },
    {
     "name": "stderr",
     "output_type": "stream",
     "text": [
      "\n"
     ]
    },
    {
     "name": "stdout",
     "output_type": "stream",
     "text": [
      "[MoviePy] Writing audio in /tmp/temp_clip.wav\n"
     ]
    },
    {
     "name": "stderr",
     "output_type": "stream",
     "text": [
      "100%|██████████| 67/67 [00:00<00:00, 260.81it/s]"
     ]
    },
    {
     "name": "stdout",
     "output_type": "stream",
     "text": [
      "[MoviePy] Done.\n"
     ]
    },
    {
     "name": "stderr",
     "output_type": "stream",
     "text": [
      "\n"
     ]
    },
    {
     "name": "stdout",
     "output_type": "stream",
     "text": [
      "[MoviePy] Writing audio in /tmp/temp_clip.wav\n"
     ]
    },
    {
     "name": "stderr",
     "output_type": "stream",
     "text": [
      "100%|██████████| 67/67 [00:00<00:00, 327.06it/s]"
     ]
    },
    {
     "name": "stdout",
     "output_type": "stream",
     "text": [
      "[MoviePy] Done.\n"
     ]
    },
    {
     "name": "stderr",
     "output_type": "stream",
     "text": [
      "\n"
     ]
    },
    {
     "name": "stdout",
     "output_type": "stream",
     "text": [
      "[MoviePy] Writing audio in /tmp/temp_clip.wav\n"
     ]
    },
    {
     "name": "stderr",
     "output_type": "stream",
     "text": [
      "100%|██████████| 67/67 [00:00<00:00, 281.92it/s]"
     ]
    },
    {
     "name": "stdout",
     "output_type": "stream",
     "text": [
      "[MoviePy] Done.\n"
     ]
    },
    {
     "name": "stderr",
     "output_type": "stream",
     "text": [
      "\n"
     ]
    },
    {
     "name": "stdout",
     "output_type": "stream",
     "text": [
      "[MoviePy] Writing audio in /tmp/temp_clip.wav\n"
     ]
    },
    {
     "name": "stderr",
     "output_type": "stream",
     "text": [
      "100%|██████████| 67/67 [00:00<00:00, 262.41it/s]"
     ]
    },
    {
     "name": "stdout",
     "output_type": "stream",
     "text": [
      "[MoviePy] Done.\n"
     ]
    },
    {
     "name": "stderr",
     "output_type": "stream",
     "text": [
      "\n"
     ]
    },
    {
     "name": "stdout",
     "output_type": "stream",
     "text": [
      "[MoviePy] Writing audio in /tmp/temp_clip.wav\n"
     ]
    },
    {
     "name": "stderr",
     "output_type": "stream",
     "text": [
      "100%|██████████| 67/67 [00:00<00:00, 303.56it/s]"
     ]
    },
    {
     "name": "stdout",
     "output_type": "stream",
     "text": [
      "[MoviePy] Done.\n"
     ]
    },
    {
     "name": "stderr",
     "output_type": "stream",
     "text": [
      "\n"
     ]
    },
    {
     "name": "stdout",
     "output_type": "stream",
     "text": [
      "[MoviePy] Writing audio in /tmp/temp_clip.wav\n"
     ]
    },
    {
     "name": "stderr",
     "output_type": "stream",
     "text": [
      "100%|██████████| 67/67 [00:00<00:00, 152.29it/s]\n"
     ]
    },
    {
     "name": "stdout",
     "output_type": "stream",
     "text": [
      "[MoviePy] Done.\n",
      "[MoviePy] Writing audio in /tmp/temp_clip.wav\n"
     ]
    },
    {
     "name": "stderr",
     "output_type": "stream",
     "text": [
      "100%|██████████| 67/67 [00:00<00:00, 216.91it/s]"
     ]
    },
    {
     "name": "stdout",
     "output_type": "stream",
     "text": [
      "[MoviePy] Done.\n"
     ]
    },
    {
     "name": "stderr",
     "output_type": "stream",
     "text": [
      "\n"
     ]
    },
    {
     "name": "stdout",
     "output_type": "stream",
     "text": [
      "[MoviePy] Writing audio in /tmp/temp_clip.wav\n"
     ]
    },
    {
     "name": "stderr",
     "output_type": "stream",
     "text": [
      "100%|██████████| 67/67 [00:00<00:00, 206.46it/s]"
     ]
    },
    {
     "name": "stdout",
     "output_type": "stream",
     "text": [
      "[MoviePy] Done.\n"
     ]
    },
    {
     "name": "stderr",
     "output_type": "stream",
     "text": [
      "\n"
     ]
    },
    {
     "name": "stdout",
     "output_type": "stream",
     "text": [
      "[MoviePy] Writing audio in /tmp/temp_clip.wav\n"
     ]
    },
    {
     "name": "stderr",
     "output_type": "stream",
     "text": [
      "100%|██████████| 67/67 [00:00<00:00, 246.65it/s]"
     ]
    },
    {
     "name": "stdout",
     "output_type": "stream",
     "text": [
      "[MoviePy] Done.\n"
     ]
    },
    {
     "name": "stderr",
     "output_type": "stream",
     "text": [
      "\n"
     ]
    },
    {
     "name": "stdout",
     "output_type": "stream",
     "text": [
      "[MoviePy] Writing audio in /tmp/temp_clip.wav\n"
     ]
    },
    {
     "name": "stderr",
     "output_type": "stream",
     "text": [
      "100%|██████████| 67/67 [00:00<00:00, 240.82it/s]"
     ]
    },
    {
     "name": "stdout",
     "output_type": "stream",
     "text": [
      "[MoviePy] Done.\n"
     ]
    },
    {
     "name": "stderr",
     "output_type": "stream",
     "text": [
      "\n"
     ]
    },
    {
     "name": "stdout",
     "output_type": "stream",
     "text": [
      "[MoviePy] Writing audio in /tmp/temp_clip.wav\n"
     ]
    },
    {
     "name": "stderr",
     "output_type": "stream",
     "text": [
      "100%|██████████| 67/67 [00:00<00:00, 237.09it/s]"
     ]
    },
    {
     "name": "stdout",
     "output_type": "stream",
     "text": [
      "[MoviePy] Done.\n"
     ]
    },
    {
     "name": "stderr",
     "output_type": "stream",
     "text": [
      "\n"
     ]
    },
    {
     "name": "stdout",
     "output_type": "stream",
     "text": [
      "[MoviePy] Writing audio in /tmp/temp_clip.wav\n"
     ]
    },
    {
     "name": "stderr",
     "output_type": "stream",
     "text": [
      "100%|██████████| 67/67 [00:00<00:00, 228.19it/s]"
     ]
    },
    {
     "name": "stdout",
     "output_type": "stream",
     "text": [
      "[MoviePy] Done.\n"
     ]
    },
    {
     "name": "stderr",
     "output_type": "stream",
     "text": [
      "\n"
     ]
    },
    {
     "name": "stdout",
     "output_type": "stream",
     "text": [
      "[MoviePy] Writing audio in /tmp/temp_clip.wav\n"
     ]
    },
    {
     "name": "stderr",
     "output_type": "stream",
     "text": [
      "100%|██████████| 67/67 [00:00<00:00, 189.06it/s]"
     ]
    },
    {
     "name": "stdout",
     "output_type": "stream",
     "text": [
      "[MoviePy] Done.\n"
     ]
    },
    {
     "name": "stderr",
     "output_type": "stream",
     "text": [
      "\n"
     ]
    },
    {
     "name": "stdout",
     "output_type": "stream",
     "text": [
      "[MoviePy] Writing audio in /tmp/temp_clip.wav\n"
     ]
    },
    {
     "name": "stderr",
     "output_type": "stream",
     "text": [
      "100%|██████████| 67/67 [00:00<00:00, 249.53it/s]"
     ]
    },
    {
     "name": "stdout",
     "output_type": "stream",
     "text": [
      "[MoviePy] Done.\n"
     ]
    },
    {
     "name": "stderr",
     "output_type": "stream",
     "text": [
      "\n"
     ]
    },
    {
     "name": "stdout",
     "output_type": "stream",
     "text": [
      "[MoviePy] Writing audio in /tmp/temp_clip.wav\n"
     ]
    },
    {
     "name": "stderr",
     "output_type": "stream",
     "text": [
      "100%|██████████| 67/67 [00:00<00:00, 204.00it/s]\n"
     ]
    },
    {
     "name": "stdout",
     "output_type": "stream",
     "text": [
      "[MoviePy] Done.\n",
      "[MoviePy] Writing audio in /tmp/temp_clip.wav\n"
     ]
    },
    {
     "name": "stderr",
     "output_type": "stream",
     "text": [
      "100%|██████████| 67/67 [00:00<00:00, 176.75it/s]\n"
     ]
    },
    {
     "name": "stdout",
     "output_type": "stream",
     "text": [
      "[MoviePy] Done.\n",
      "[MoviePy] Writing audio in /tmp/temp_clip.wav\n"
     ]
    },
    {
     "name": "stderr",
     "output_type": "stream",
     "text": [
      "100%|██████████| 67/67 [00:00<00:00, 236.41it/s]"
     ]
    },
    {
     "name": "stdout",
     "output_type": "stream",
     "text": [
      "[MoviePy] Done.\n"
     ]
    },
    {
     "name": "stderr",
     "output_type": "stream",
     "text": [
      "\n"
     ]
    },
    {
     "name": "stdout",
     "output_type": "stream",
     "text": [
      "[MoviePy] Writing audio in /tmp/temp_clip.wav\n"
     ]
    },
    {
     "name": "stderr",
     "output_type": "stream",
     "text": [
      "100%|██████████| 67/67 [00:00<00:00, 199.76it/s]"
     ]
    },
    {
     "name": "stdout",
     "output_type": "stream",
     "text": [
      "[MoviePy] Done.\n"
     ]
    },
    {
     "name": "stderr",
     "output_type": "stream",
     "text": [
      "\n"
     ]
    },
    {
     "name": "stdout",
     "output_type": "stream",
     "text": [
      "[MoviePy] Writing audio in /tmp/temp_clip.wav\n"
     ]
    },
    {
     "name": "stderr",
     "output_type": "stream",
     "text": [
      "100%|██████████| 67/67 [00:00<00:00, 245.70it/s]"
     ]
    },
    {
     "name": "stdout",
     "output_type": "stream",
     "text": [
      "[MoviePy] Done.\n"
     ]
    },
    {
     "name": "stderr",
     "output_type": "stream",
     "text": [
      "\n"
     ]
    },
    {
     "name": "stdout",
     "output_type": "stream",
     "text": [
      "[MoviePy] Writing audio in /tmp/temp_clip.wav\n"
     ]
    },
    {
     "name": "stderr",
     "output_type": "stream",
     "text": [
      "100%|██████████| 67/67 [00:00<00:00, 189.76it/s]\n"
     ]
    },
    {
     "name": "stdout",
     "output_type": "stream",
     "text": [
      "[MoviePy] Done.\n",
      "[MoviePy] Writing audio in /tmp/temp_clip.wav\n"
     ]
    },
    {
     "name": "stderr",
     "output_type": "stream",
     "text": [
      "100%|██████████| 67/67 [00:00<00:00, 177.72it/s]"
     ]
    },
    {
     "name": "stdout",
     "output_type": "stream",
     "text": [
      "[MoviePy] Done.\n"
     ]
    },
    {
     "name": "stderr",
     "output_type": "stream",
     "text": [
      "\n"
     ]
    },
    {
     "name": "stdout",
     "output_type": "stream",
     "text": [
      "[MoviePy] Writing audio in /tmp/temp_clip.wav\n"
     ]
    },
    {
     "name": "stderr",
     "output_type": "stream",
     "text": [
      "100%|██████████| 67/67 [00:00<00:00, 163.59it/s]\n"
     ]
    },
    {
     "name": "stdout",
     "output_type": "stream",
     "text": [
      "[MoviePy] Done.\n",
      "[MoviePy] Writing audio in /tmp/temp_clip.wav\n"
     ]
    },
    {
     "name": "stderr",
     "output_type": "stream",
     "text": [
      "100%|██████████| 67/67 [00:00<00:00, 206.47it/s]"
     ]
    },
    {
     "name": "stdout",
     "output_type": "stream",
     "text": [
      "[MoviePy] Done.\n"
     ]
    },
    {
     "name": "stderr",
     "output_type": "stream",
     "text": [
      "\n"
     ]
    },
    {
     "name": "stdout",
     "output_type": "stream",
     "text": [
      "[MoviePy] Writing audio in /tmp/temp_clip.wav\n"
     ]
    },
    {
     "name": "stderr",
     "output_type": "stream",
     "text": [
      "100%|██████████| 67/67 [00:00<00:00, 178.22it/s]"
     ]
    },
    {
     "name": "stdout",
     "output_type": "stream",
     "text": [
      "[MoviePy] Done.\n"
     ]
    },
    {
     "name": "stderr",
     "output_type": "stream",
     "text": [
      "\n"
     ]
    },
    {
     "name": "stdout",
     "output_type": "stream",
     "text": [
      "[MoviePy] Writing audio in /tmp/temp_clip.wav\n"
     ]
    },
    {
     "name": "stderr",
     "output_type": "stream",
     "text": [
      "100%|██████████| 67/67 [00:00<00:00, 245.83it/s]"
     ]
    },
    {
     "name": "stdout",
     "output_type": "stream",
     "text": [
      "[MoviePy] Done.\n"
     ]
    },
    {
     "name": "stderr",
     "output_type": "stream",
     "text": [
      "\n"
     ]
    },
    {
     "name": "stdout",
     "output_type": "stream",
     "text": [
      "[MoviePy] Writing audio in /tmp/temp_clip.wav\n"
     ]
    },
    {
     "name": "stderr",
     "output_type": "stream",
     "text": [
      "100%|██████████| 67/67 [00:00<00:00, 233.90it/s]"
     ]
    },
    {
     "name": "stdout",
     "output_type": "stream",
     "text": [
      "[MoviePy] Done.\n"
     ]
    },
    {
     "name": "stderr",
     "output_type": "stream",
     "text": [
      "\n"
     ]
    },
    {
     "name": "stdout",
     "output_type": "stream",
     "text": [
      "[MoviePy] Writing audio in /tmp/temp_clip.wav\n"
     ]
    },
    {
     "name": "stderr",
     "output_type": "stream",
     "text": [
      "100%|██████████| 67/67 [00:00<00:00, 193.88it/s]"
     ]
    },
    {
     "name": "stdout",
     "output_type": "stream",
     "text": [
      "[MoviePy] Done.\n"
     ]
    },
    {
     "name": "stderr",
     "output_type": "stream",
     "text": [
      "\n"
     ]
    },
    {
     "name": "stdout",
     "output_type": "stream",
     "text": [
      "[MoviePy] Writing audio in /tmp/temp_clip.wav\n"
     ]
    },
    {
     "name": "stderr",
     "output_type": "stream",
     "text": [
      "100%|██████████| 67/67 [00:00<00:00, 220.21it/s]"
     ]
    },
    {
     "name": "stdout",
     "output_type": "stream",
     "text": [
      "[MoviePy] Done.\n"
     ]
    },
    {
     "name": "stderr",
     "output_type": "stream",
     "text": [
      "\n"
     ]
    },
    {
     "name": "stdout",
     "output_type": "stream",
     "text": [
      "[MoviePy] Writing audio in /tmp/temp_clip.wav\n"
     ]
    },
    {
     "name": "stderr",
     "output_type": "stream",
     "text": [
      "100%|██████████| 67/67 [00:00<00:00, 90.63it/s]"
     ]
    },
    {
     "name": "stdout",
     "output_type": "stream",
     "text": [
      "[MoviePy] Done.\n"
     ]
    },
    {
     "name": "stderr",
     "output_type": "stream",
     "text": [
      "\n"
     ]
    },
    {
     "name": "stdout",
     "output_type": "stream",
     "text": [
      "[MoviePy] Writing audio in /tmp/temp_clip.wav\n"
     ]
    },
    {
     "name": "stderr",
     "output_type": "stream",
     "text": [
      "100%|██████████| 67/67 [00:00<00:00, 228.17it/s]"
     ]
    },
    {
     "name": "stdout",
     "output_type": "stream",
     "text": [
      "[MoviePy] Done.\n"
     ]
    },
    {
     "name": "stderr",
     "output_type": "stream",
     "text": [
      "\n"
     ]
    },
    {
     "name": "stdout",
     "output_type": "stream",
     "text": [
      "[MoviePy] Writing audio in /tmp/temp_clip.wav\n"
     ]
    },
    {
     "name": "stderr",
     "output_type": "stream",
     "text": [
      "100%|██████████| 67/67 [00:00<00:00, 193.02it/s]"
     ]
    },
    {
     "name": "stdout",
     "output_type": "stream",
     "text": [
      "[MoviePy] Done.\n"
     ]
    },
    {
     "name": "stderr",
     "output_type": "stream",
     "text": [
      "\n"
     ]
    },
    {
     "name": "stdout",
     "output_type": "stream",
     "text": [
      "[MoviePy] Writing audio in /tmp/temp_clip.wav\n"
     ]
    },
    {
     "name": "stderr",
     "output_type": "stream",
     "text": [
      "100%|██████████| 67/67 [00:00<00:00, 286.88it/s]"
     ]
    },
    {
     "name": "stdout",
     "output_type": "stream",
     "text": [
      "[MoviePy] Done.\n"
     ]
    },
    {
     "name": "stderr",
     "output_type": "stream",
     "text": [
      "\n"
     ]
    },
    {
     "name": "stdout",
     "output_type": "stream",
     "text": [
      "[MoviePy] Writing audio in /tmp/temp_clip.wav\n"
     ]
    },
    {
     "name": "stderr",
     "output_type": "stream",
     "text": [
      "100%|██████████| 67/67 [00:00<00:00, 178.69it/s]"
     ]
    },
    {
     "name": "stdout",
     "output_type": "stream",
     "text": [
      "[MoviePy] Done.\n"
     ]
    },
    {
     "name": "stderr",
     "output_type": "stream",
     "text": [
      "\n"
     ]
    },
    {
     "name": "stdout",
     "output_type": "stream",
     "text": [
      "[MoviePy] Writing audio in /tmp/temp_clip.wav\n"
     ]
    },
    {
     "name": "stderr",
     "output_type": "stream",
     "text": [
      "100%|██████████| 67/67 [00:00<00:00, 242.47it/s]"
     ]
    },
    {
     "name": "stdout",
     "output_type": "stream",
     "text": [
      "[MoviePy] Done.\n"
     ]
    },
    {
     "name": "stderr",
     "output_type": "stream",
     "text": [
      "\n"
     ]
    },
    {
     "name": "stdout",
     "output_type": "stream",
     "text": [
      "[MoviePy] Writing audio in /tmp/temp_clip.wav\n"
     ]
    },
    {
     "name": "stderr",
     "output_type": "stream",
     "text": [
      "100%|██████████| 67/67 [00:00<00:00, 291.67it/s]"
     ]
    },
    {
     "name": "stdout",
     "output_type": "stream",
     "text": [
      "[MoviePy] Done.\n"
     ]
    },
    {
     "name": "stderr",
     "output_type": "stream",
     "text": [
      "\n"
     ]
    },
    {
     "name": "stdout",
     "output_type": "stream",
     "text": [
      "[MoviePy] Writing audio in /tmp/temp_clip.wav\n"
     ]
    },
    {
     "name": "stderr",
     "output_type": "stream",
     "text": [
      "100%|██████████| 67/67 [00:00<00:00, 327.94it/s]"
     ]
    },
    {
     "name": "stdout",
     "output_type": "stream",
     "text": [
      "[MoviePy] Done.\n"
     ]
    },
    {
     "name": "stderr",
     "output_type": "stream",
     "text": [
      "\n"
     ]
    },
    {
     "name": "stdout",
     "output_type": "stream",
     "text": [
      "[MoviePy] Writing audio in /tmp/temp_clip.wav\n"
     ]
    },
    {
     "name": "stderr",
     "output_type": "stream",
     "text": [
      "100%|██████████| 67/67 [00:00<00:00, 325.58it/s]"
     ]
    },
    {
     "name": "stdout",
     "output_type": "stream",
     "text": [
      "[MoviePy] Done.\n"
     ]
    },
    {
     "name": "stderr",
     "output_type": "stream",
     "text": [
      "\n"
     ]
    },
    {
     "name": "stdout",
     "output_type": "stream",
     "text": [
      "[MoviePy] Writing audio in /tmp/temp_clip.wav\n"
     ]
    },
    {
     "name": "stderr",
     "output_type": "stream",
     "text": [
      "100%|██████████| 67/67 [00:00<00:00, 339.27it/s]"
     ]
    },
    {
     "name": "stdout",
     "output_type": "stream",
     "text": [
      "[MoviePy] Done.\n"
     ]
    },
    {
     "name": "stderr",
     "output_type": "stream",
     "text": [
      "\n"
     ]
    },
    {
     "name": "stdout",
     "output_type": "stream",
     "text": [
      "[MoviePy] Writing audio in /tmp/temp_clip.wav\n"
     ]
    },
    {
     "name": "stderr",
     "output_type": "stream",
     "text": [
      "100%|██████████| 67/67 [00:00<00:00, 347.00it/s]"
     ]
    },
    {
     "name": "stdout",
     "output_type": "stream",
     "text": [
      "[MoviePy] Done.\n"
     ]
    },
    {
     "name": "stderr",
     "output_type": "stream",
     "text": [
      "\n"
     ]
    },
    {
     "name": "stdout",
     "output_type": "stream",
     "text": [
      "[MoviePy] Writing audio in /tmp/temp_clip.wav\n"
     ]
    },
    {
     "name": "stderr",
     "output_type": "stream",
     "text": [
      "100%|██████████| 67/67 [00:00<00:00, 324.74it/s]"
     ]
    },
    {
     "name": "stdout",
     "output_type": "stream",
     "text": [
      "[MoviePy] Done.\n"
     ]
    },
    {
     "name": "stderr",
     "output_type": "stream",
     "text": [
      "\n"
     ]
    },
    {
     "name": "stdout",
     "output_type": "stream",
     "text": [
      "[MoviePy] Writing audio in /tmp/temp_clip.wav\n"
     ]
    },
    {
     "name": "stderr",
     "output_type": "stream",
     "text": [
      "100%|██████████| 67/67 [00:00<00:00, 369.72it/s]\n"
     ]
    },
    {
     "name": "stdout",
     "output_type": "stream",
     "text": [
      "[MoviePy] Done.\n",
      "[MoviePy] Writing audio in /tmp/temp_clip.wav\n"
     ]
    },
    {
     "name": "stderr",
     "output_type": "stream",
     "text": [
      "100%|██████████| 67/67 [00:00<00:00, 341.03it/s]"
     ]
    },
    {
     "name": "stdout",
     "output_type": "stream",
     "text": [
      "[MoviePy] Done.\n"
     ]
    },
    {
     "name": "stderr",
     "output_type": "stream",
     "text": [
      "\n"
     ]
    },
    {
     "name": "stdout",
     "output_type": "stream",
     "text": [
      "[MoviePy] Writing audio in /tmp/temp_clip.wav\n"
     ]
    },
    {
     "name": "stderr",
     "output_type": "stream",
     "text": [
      "100%|██████████| 67/67 [00:00<00:00, 398.66it/s]"
     ]
    },
    {
     "name": "stdout",
     "output_type": "stream",
     "text": [
      "[MoviePy] Done.\n"
     ]
    },
    {
     "name": "stderr",
     "output_type": "stream",
     "text": [
      "\n"
     ]
    },
    {
     "name": "stdout",
     "output_type": "stream",
     "text": [
      "[MoviePy] Writing audio in /tmp/temp_clip.wav\n"
     ]
    },
    {
     "name": "stderr",
     "output_type": "stream",
     "text": [
      "100%|██████████| 67/67 [00:00<00:00, 330.75it/s]"
     ]
    },
    {
     "name": "stdout",
     "output_type": "stream",
     "text": [
      "[MoviePy] Done.\n"
     ]
    },
    {
     "name": "stderr",
     "output_type": "stream",
     "text": [
      "\n"
     ]
    },
    {
     "name": "stdout",
     "output_type": "stream",
     "text": [
      "[MoviePy] Writing audio in /tmp/temp_clip.wav\n"
     ]
    },
    {
     "name": "stderr",
     "output_type": "stream",
     "text": [
      "100%|██████████| 67/67 [00:00<00:00, 377.62it/s]"
     ]
    },
    {
     "name": "stdout",
     "output_type": "stream",
     "text": [
      "[MoviePy] Done.\n"
     ]
    },
    {
     "name": "stderr",
     "output_type": "stream",
     "text": [
      "\n"
     ]
    },
    {
     "name": "stdout",
     "output_type": "stream",
     "text": [
      "[MoviePy] Writing audio in /tmp/temp_clip.wav\n"
     ]
    },
    {
     "name": "stderr",
     "output_type": "stream",
     "text": [
      "100%|██████████| 67/67 [00:00<00:00, 344.49it/s]"
     ]
    },
    {
     "name": "stdout",
     "output_type": "stream",
     "text": [
      "[MoviePy] Done.\n"
     ]
    },
    {
     "name": "stderr",
     "output_type": "stream",
     "text": [
      "\n"
     ]
    },
    {
     "name": "stdout",
     "output_type": "stream",
     "text": [
      "[MoviePy] Writing audio in /tmp/temp_clip.wav\n"
     ]
    },
    {
     "name": "stderr",
     "output_type": "stream",
     "text": [
      "100%|██████████| 67/67 [00:00<00:00, 421.47it/s]"
     ]
    },
    {
     "name": "stdout",
     "output_type": "stream",
     "text": [
      "[MoviePy] Done.\n"
     ]
    },
    {
     "name": "stderr",
     "output_type": "stream",
     "text": [
      "\n"
     ]
    },
    {
     "name": "stdout",
     "output_type": "stream",
     "text": [
      "[MoviePy] Writing audio in /tmp/temp_clip.wav\n"
     ]
    },
    {
     "name": "stderr",
     "output_type": "stream",
     "text": [
      "100%|██████████| 67/67 [00:00<00:00, 406.84it/s]"
     ]
    },
    {
     "name": "stdout",
     "output_type": "stream",
     "text": [
      "[MoviePy] Done.\n"
     ]
    },
    {
     "name": "stderr",
     "output_type": "stream",
     "text": [
      "\n"
     ]
    },
    {
     "name": "stdout",
     "output_type": "stream",
     "text": [
      "[MoviePy] Writing audio in /tmp/temp_clip.wav\n"
     ]
    },
    {
     "name": "stderr",
     "output_type": "stream",
     "text": [
      "100%|██████████| 67/67 [00:00<00:00, 351.81it/s]\n"
     ]
    },
    {
     "name": "stdout",
     "output_type": "stream",
     "text": [
      "[MoviePy] Done.\n",
      "[MoviePy] Writing audio in /tmp/temp_clip.wav\n"
     ]
    },
    {
     "name": "stderr",
     "output_type": "stream",
     "text": [
      "100%|██████████| 67/67 [00:00<00:00, 440.00it/s]"
     ]
    },
    {
     "name": "stdout",
     "output_type": "stream",
     "text": [
      "[MoviePy] Done.\n"
     ]
    },
    {
     "name": "stderr",
     "output_type": "stream",
     "text": [
      "\n"
     ]
    },
    {
     "name": "stdout",
     "output_type": "stream",
     "text": [
      "[MoviePy] Writing audio in /tmp/temp_clip.wav\n"
     ]
    },
    {
     "name": "stderr",
     "output_type": "stream",
     "text": [
      "100%|██████████| 67/67 [00:00<00:00, 296.49it/s]"
     ]
    },
    {
     "name": "stdout",
     "output_type": "stream",
     "text": [
      "[MoviePy] Done.\n"
     ]
    },
    {
     "name": "stderr",
     "output_type": "stream",
     "text": [
      "\n"
     ]
    },
    {
     "name": "stdout",
     "output_type": "stream",
     "text": [
      "[MoviePy] Writing audio in /tmp/temp_clip.wav\n"
     ]
    },
    {
     "name": "stderr",
     "output_type": "stream",
     "text": [
      "100%|██████████| 67/67 [00:00<00:00, 327.44it/s]"
     ]
    },
    {
     "name": "stdout",
     "output_type": "stream",
     "text": [
      "[MoviePy] Done.\n"
     ]
    },
    {
     "name": "stderr",
     "output_type": "stream",
     "text": [
      "\n"
     ]
    },
    {
     "name": "stdout",
     "output_type": "stream",
     "text": [
      "[MoviePy] Writing audio in /tmp/temp_clip.wav\n"
     ]
    },
    {
     "name": "stderr",
     "output_type": "stream",
     "text": [
      "100%|██████████| 67/67 [00:00<00:00, 380.02it/s]\n"
     ]
    },
    {
     "name": "stdout",
     "output_type": "stream",
     "text": [
      "[MoviePy] Done.\n",
      "[MoviePy] Writing audio in /tmp/temp_clip.wav\n"
     ]
    },
    {
     "name": "stderr",
     "output_type": "stream",
     "text": [
      "100%|██████████| 67/67 [00:00<00:00, 428.75it/s]"
     ]
    },
    {
     "name": "stdout",
     "output_type": "stream",
     "text": [
      "[MoviePy] Done.\n"
     ]
    },
    {
     "name": "stderr",
     "output_type": "stream",
     "text": [
      "\n"
     ]
    },
    {
     "name": "stdout",
     "output_type": "stream",
     "text": [
      "[MoviePy] Writing audio in /tmp/temp_clip.wav\n"
     ]
    },
    {
     "name": "stderr",
     "output_type": "stream",
     "text": [
      "100%|██████████| 67/67 [00:00<00:00, 267.63it/s]"
     ]
    },
    {
     "name": "stdout",
     "output_type": "stream",
     "text": [
      "[MoviePy] Done.\n"
     ]
    },
    {
     "name": "stderr",
     "output_type": "stream",
     "text": [
      "\n"
     ]
    },
    {
     "name": "stdout",
     "output_type": "stream",
     "text": [
      "[MoviePy] Writing audio in /tmp/temp_clip.wav\n"
     ]
    },
    {
     "name": "stderr",
     "output_type": "stream",
     "text": [
      "100%|██████████| 67/67 [00:00<00:00, 217.98it/s]"
     ]
    },
    {
     "name": "stdout",
     "output_type": "stream",
     "text": [
      "[MoviePy] Done.\n"
     ]
    },
    {
     "name": "stderr",
     "output_type": "stream",
     "text": [
      "\n"
     ]
    },
    {
     "name": "stdout",
     "output_type": "stream",
     "text": [
      "[MoviePy] Writing audio in /tmp/temp_clip.wav\n"
     ]
    },
    {
     "name": "stderr",
     "output_type": "stream",
     "text": [
      "100%|██████████| 67/67 [00:00<00:00, 400.59it/s]\n"
     ]
    },
    {
     "name": "stdout",
     "output_type": "stream",
     "text": [
      "[MoviePy] Done.\n",
      "[MoviePy] Writing audio in /tmp/temp_clip.wav\n"
     ]
    },
    {
     "name": "stderr",
     "output_type": "stream",
     "text": [
      "100%|██████████| 67/67 [00:00<00:00, 331.30it/s]"
     ]
    },
    {
     "name": "stdout",
     "output_type": "stream",
     "text": [
      "[MoviePy] Done.\n"
     ]
    },
    {
     "name": "stderr",
     "output_type": "stream",
     "text": [
      "\n"
     ]
    },
    {
     "name": "stdout",
     "output_type": "stream",
     "text": [
      "[MoviePy] Writing audio in /tmp/temp_clip.wav\n"
     ]
    },
    {
     "name": "stderr",
     "output_type": "stream",
     "text": [
      "100%|██████████| 67/67 [00:00<00:00, 359.71it/s]"
     ]
    },
    {
     "name": "stdout",
     "output_type": "stream",
     "text": [
      "[MoviePy] Done.\n"
     ]
    },
    {
     "name": "stderr",
     "output_type": "stream",
     "text": [
      "\n"
     ]
    },
    {
     "name": "stdout",
     "output_type": "stream",
     "text": [
      "[MoviePy] Writing audio in /tmp/temp_clip.wav\n"
     ]
    },
    {
     "name": "stderr",
     "output_type": "stream",
     "text": [
      "100%|██████████| 67/67 [00:00<00:00, 331.38it/s]"
     ]
    },
    {
     "name": "stdout",
     "output_type": "stream",
     "text": [
      "[MoviePy] Done.\n"
     ]
    },
    {
     "name": "stderr",
     "output_type": "stream",
     "text": [
      "\n"
     ]
    },
    {
     "name": "stdout",
     "output_type": "stream",
     "text": [
      "[MoviePy] Writing audio in /tmp/temp_clip.wav\n"
     ]
    },
    {
     "name": "stderr",
     "output_type": "stream",
     "text": [
      "100%|██████████| 67/67 [00:00<00:00, 339.61it/s]"
     ]
    },
    {
     "name": "stdout",
     "output_type": "stream",
     "text": [
      "[MoviePy] Done.\n"
     ]
    },
    {
     "name": "stderr",
     "output_type": "stream",
     "text": [
      "\n"
     ]
    },
    {
     "name": "stdout",
     "output_type": "stream",
     "text": [
      "[MoviePy] Writing audio in /tmp/temp_clip.wav\n"
     ]
    },
    {
     "name": "stderr",
     "output_type": "stream",
     "text": [
      "100%|██████████| 67/67 [00:00<00:00, 330.17it/s]"
     ]
    },
    {
     "name": "stdout",
     "output_type": "stream",
     "text": [
      "[MoviePy] Done.\n"
     ]
    },
    {
     "name": "stderr",
     "output_type": "stream",
     "text": [
      "\n"
     ]
    },
    {
     "name": "stdout",
     "output_type": "stream",
     "text": [
      "[MoviePy] Writing audio in /tmp/temp_clip.wav\n"
     ]
    },
    {
     "name": "stderr",
     "output_type": "stream",
     "text": [
      "100%|██████████| 67/67 [00:00<00:00, 302.11it/s]"
     ]
    },
    {
     "name": "stdout",
     "output_type": "stream",
     "text": [
      "[MoviePy] Done.\n"
     ]
    },
    {
     "name": "stderr",
     "output_type": "stream",
     "text": [
      "\n"
     ]
    },
    {
     "name": "stdout",
     "output_type": "stream",
     "text": [
      "[MoviePy] Writing audio in /tmp/temp_clip.wav\n"
     ]
    },
    {
     "name": "stderr",
     "output_type": "stream",
     "text": [
      "100%|██████████| 67/67 [00:00<00:00, 332.44it/s]"
     ]
    },
    {
     "name": "stdout",
     "output_type": "stream",
     "text": [
      "[MoviePy] Done.\n"
     ]
    },
    {
     "name": "stderr",
     "output_type": "stream",
     "text": [
      "\n"
     ]
    },
    {
     "name": "stdout",
     "output_type": "stream",
     "text": [
      "[MoviePy] Writing audio in /tmp/temp_clip.wav\n"
     ]
    },
    {
     "name": "stderr",
     "output_type": "stream",
     "text": [
      "100%|██████████| 67/67 [00:00<00:00, 267.15it/s]"
     ]
    },
    {
     "name": "stdout",
     "output_type": "stream",
     "text": [
      "[MoviePy] Done.\n"
     ]
    },
    {
     "name": "stderr",
     "output_type": "stream",
     "text": [
      "\n"
     ]
    },
    {
     "name": "stdout",
     "output_type": "stream",
     "text": [
      "[MoviePy] Writing audio in /tmp/temp_clip.wav\n"
     ]
    },
    {
     "name": "stderr",
     "output_type": "stream",
     "text": [
      "100%|██████████| 67/67 [00:00<00:00, 273.34it/s]"
     ]
    }
   ],
   "source": [
    "\n",
    "\n",
    "## Classifying a long audio file\n",
    "\n",
    "\n",
    "tic=timeit.default_timer()\n",
    "\n",
    "\n",
    "media_path = \"/sharedfolder/fa_eval/FA_Author_Tom_Perrotta.mp3\"\n",
    "\n",
    "\n",
    "snd = AudioFileClip.AudioFileClip(media_path)\n",
    "\n",
    "classifications=[]\n",
    "\n",
    "for i in range(int(attk.duration(media_path)/3.0)):\n",
    "    try:\n",
    "        snd.subclip(i,i+3).write_audiofile('/tmp/temp_clip.wav')\n",
    "        classifications.append(classify_clip('/tmp/temp_clip.wav'))\n",
    "    except: \n",
    "        classifications.append(0.0)\n",
    "        print \"missed one\"\n",
    "\n"
   ]
  },
  {
   "cell_type": "code",
   "execution_count": null,
   "metadata": {},
   "outputs": [],
   "source": []
  },
  {
   "cell_type": "code",
   "execution_count": null,
   "metadata": {
    "collapsed": true
   },
   "outputs": [],
   "source": []
  },
  {
   "cell_type": "code",
   "execution_count": 69,
   "metadata": {},
   "outputs": [
    {
     "ename": "NameError",
     "evalue": "name 'classifications' is not defined",
     "output_type": "error",
     "traceback": [
      "\u001b[0;31m---------------------------------------------------------------------------\u001b[0m",
      "\u001b[0;31mNameError\u001b[0m                                 Traceback (most recent call last)",
      "\u001b[0;32m<ipython-input-69-df9f56913c4d>\u001b[0m in \u001b[0;36m<module>\u001b[0;34m()\u001b[0m\n\u001b[1;32m      8\u001b[0m \u001b[0mi\u001b[0m\u001b[0;34m=\u001b[0m\u001b[0;36m0\u001b[0m\u001b[0;34m\u001b[0m\u001b[0m\n\u001b[1;32m      9\u001b[0m \u001b[0;34m\u001b[0m\u001b[0m\n\u001b[0;32m---> 10\u001b[0;31m \u001b[0;32mfor\u001b[0m \u001b[0mclassification\u001b[0m \u001b[0;32min\u001b[0m \u001b[0mattk\u001b[0m\u001b[0;34m.\u001b[0m\u001b[0msmooth\u001b[0m\u001b[0;34m(\u001b[0m\u001b[0mnp\u001b[0m\u001b[0;34m.\u001b[0m\u001b[0marray\u001b[0m\u001b[0;34m(\u001b[0m\u001b[0mclassifications\u001b[0m\u001b[0;34m)\u001b[0m\u001b[0;34m)\u001b[0m\u001b[0;34m:\u001b[0m\u001b[0;34m\u001b[0m\u001b[0m\n\u001b[0m\u001b[1;32m     11\u001b[0m     \u001b[0;32mif\u001b[0m \u001b[0mclassification\u001b[0m \u001b[0;34m<\u001b[0m \u001b[0;36m0.34\u001b[0m\u001b[0;34m:\u001b[0m\u001b[0;34m\u001b[0m\u001b[0m\n\u001b[1;32m     12\u001b[0m         \u001b[0mclass_0_secs\u001b[0m\u001b[0;34m.\u001b[0m\u001b[0mappend\u001b[0m\u001b[0;34m(\u001b[0m\u001b[0mi\u001b[0m\u001b[0;34m)\u001b[0m\u001b[0;34m\u001b[0m\u001b[0m\n",
      "\u001b[0;31mNameError\u001b[0m: name 'classifications' is not defined"
     ]
    }
   ],
   "source": [
    "## Writing classification output to CSV\n",
    "\n",
    "counter=0\n",
    "\n",
    "class_0_secs=[]\n",
    "class_1_secs=[]\n",
    "\n",
    "i=0\n",
    "\n",
    "for classification in attk.smooth(np.array(classifications)):\n",
    "    if classification < 0.1:\n",
    "        class_0_secs.append(i)\n",
    "    if classification >= 0.1:\n",
    "        class_1_secs.append(i)\n",
    "    i+=1\n",
    "\n",
    "33\n",
    "counter=0\n",
    "\n",
    "csv_path=media_path[:-4]+'_mlpc2048_labels.csv'\n",
    "\n",
    "with open(csv_path,'w') as fo:\n",
    "    for pair in attk.labels_to_ranges(class_0_secs):\n",
    "        fo.write(str(3.0 * float(pair[0]))+','+str(3.0 * float(pair[1]))+',Background\\n')\n",
    "    for pair in attk.labels_to_ranges(class_1_secs):\n",
    "        fo.write(str(3.0 * float(pair[0]))+','+str(3.0 * float(pair[1]))+',Terry Gross\\n')\n",
    "\n",
    "\n",
    "print(timeit.default_timer() - tic)"
   ]
  },
  {
   "cell_type": "code",
   "execution_count": null,
   "metadata": {},
   "outputs": [],
   "source": [
    "!pwd\n"
   ]
  },
  {
   "cell_type": "code",
   "execution_count": null,
   "metadata": {
    "collapsed": true
   },
   "outputs": [],
   "source": []
  },
  {
   "cell_type": "code",
   "execution_count": null,
   "metadata": {
    "collapsed": true
   },
   "outputs": [],
   "source": []
  },
  {
   "cell_type": "code",
   "execution_count": null,
   "metadata": {
    "collapsed": true
   },
   "outputs": [],
   "source": []
  },
  {
   "cell_type": "code",
   "execution_count": null,
   "metadata": {
    "collapsed": true
   },
   "outputs": [],
   "source": []
  },
  {
   "cell_type": "code",
   "execution_count": null,
   "metadata": {
    "collapsed": true
   },
   "outputs": [],
   "source": []
  },
  {
   "cell_type": "code",
   "execution_count": null,
   "metadata": {
    "collapsed": true
   },
   "outputs": [],
   "source": []
  },
  {
   "cell_type": "code",
   "execution_count": null,
   "metadata": {
    "collapsed": true
   },
   "outputs": [],
   "source": []
  },
  {
   "cell_type": "code",
   "execution_count": null,
   "metadata": {
    "collapsed": true
   },
   "outputs": [],
   "source": []
  },
  {
   "cell_type": "code",
   "execution_count": null,
   "metadata": {
    "collapsed": true
   },
   "outputs": [],
   "source": []
  },
  {
   "cell_type": "code",
   "execution_count": null,
   "metadata": {
    "collapsed": true
   },
   "outputs": [],
   "source": []
  },
  {
   "cell_type": "code",
   "execution_count": null,
   "metadata": {
    "collapsed": true
   },
   "outputs": [],
   "source": [
    "\n",
    "\n"
   ]
  },
  {
   "cell_type": "code",
   "execution_count": null,
   "metadata": {
    "collapsed": true
   },
   "outputs": [],
   "source": []
  },
  {
   "cell_type": "code",
   "execution_count": null,
   "metadata": {
    "collapsed": true
   },
   "outputs": [],
   "source": []
  },
  {
   "cell_type": "code",
   "execution_count": null,
   "metadata": {
    "collapsed": true
   },
   "outputs": [],
   "source": []
  },
  {
   "cell_type": "code",
   "execution_count": null,
   "metadata": {
    "collapsed": true
   },
   "outputs": [],
   "source": []
  },
  {
   "cell_type": "code",
   "execution_count": null,
   "metadata": {
    "collapsed": true
   },
   "outputs": [],
   "source": []
  },
  {
   "cell_type": "code",
   "execution_count": null,
   "metadata": {
    "collapsed": true
   },
   "outputs": [],
   "source": []
  },
  {
   "cell_type": "code",
   "execution_count": null,
   "metadata": {
    "collapsed": true
   },
   "outputs": [],
   "source": []
  },
  {
   "cell_type": "code",
   "execution_count": null,
   "metadata": {
    "collapsed": true
   },
   "outputs": [],
   "source": []
  }
 ],
 "metadata": {
  "kernelspec": {
   "display_name": "Python 2",
   "language": "python",
   "name": "python2"
  },
  "language_info": {
   "codemirror_mode": {
    "name": "ipython",
    "version": 2
   },
   "file_extension": ".py",
   "mimetype": "text/x-python",
   "name": "python",
   "nbconvert_exporter": "python",
   "pygments_lexer": "ipython2",
   "version": "2.7.6"
  }
 },
 "nbformat": 4,
 "nbformat_minor": 2
}
